{
 "cells": [
  {
   "cell_type": "markdown",
   "metadata": {},
   "source": [
    "# Credit Repayment Behaviour Analysis\n",
    "\n",
    "The goal to find out whether the factors such as the marital status and the number of children of the borrowers affect the repayment of the loan to the bank on time. The Bank X has provided the data on clients' creditworthiness.\n",
    "\n",
    "The report will be considered when building a credit scoring of a potential client of the bank. A credit scoring is used to evaluate the risks of the potential borrowers defaulting on their debt obligations."
   ]
  },
  {
   "cell_type": "markdown",
   "metadata": {},
   "source": [
    "# Data Description\n",
    "\n",
    "***Note:*** the data provided by the Bank X is about bank clients in Russia, thus some contents of the dataset might be in Russian language.\n",
    "\n",
    "children : the number of children in the family\n",
    "<br>days_employed: how long the customer has worked\n",
    "<br>dob_years: the customer’s age\n",
    "<br>education: the customer’s education level\n",
    "<br>education_id: identifier for the customer’s education\n",
    "<br>family_status: the customer’s marital status\n",
    "<br>family_status_id: identifier for the customer’s marital status\n",
    "<br>gender: the customer’s gender\n",
    "<br>income_type: the customer’s income type\n",
    "<br>debt: whether the client has ever defaulted on a loan\n",
    "<br>total_income: monthly income\n",
    "<br>purpose: reason for taking out a loan"
   ]
  },
  {
   "cell_type": "markdown",
   "metadata": {},
   "source": [
    "## Step 1. Data quality assessment"
   ]
  },
  {
   "cell_type": "code",
   "execution_count": 781,
   "metadata": {},
   "outputs": [],
   "source": [
    "# importing libraries\n",
    "import pandas as pd \n",
    "from pymystem3 import Mystem # getting a stemmer/lemmatizer for words in Russian\n",
    "\n",
    "m = Mystem()"
   ]
  },
  {
   "cell_type": "code",
   "execution_count": 782,
   "metadata": {},
   "outputs": [],
   "source": [
    "# opening the data file\n",
    "df = pd.read_csv('clients_data.csv')"
   ]
  },
  {
   "cell_type": "code",
   "execution_count": 783,
   "metadata": {},
   "outputs": [
    {
     "data": {
      "text/html": [
       "<div>\n",
       "<style scoped>\n",
       "    .dataframe tbody tr th:only-of-type {\n",
       "        vertical-align: middle;\n",
       "    }\n",
       "\n",
       "    .dataframe tbody tr th {\n",
       "        vertical-align: top;\n",
       "    }\n",
       "\n",
       "    .dataframe thead th {\n",
       "        text-align: right;\n",
       "    }\n",
       "</style>\n",
       "<table border=\"1\" class=\"dataframe\">\n",
       "  <thead>\n",
       "    <tr style=\"text-align: right;\">\n",
       "      <th></th>\n",
       "      <th>children</th>\n",
       "      <th>days_employed</th>\n",
       "      <th>dob_years</th>\n",
       "      <th>education</th>\n",
       "      <th>education_id</th>\n",
       "      <th>family_status</th>\n",
       "      <th>family_status_id</th>\n",
       "      <th>gender</th>\n",
       "      <th>income_type</th>\n",
       "      <th>debt</th>\n",
       "      <th>total_income</th>\n",
       "      <th>purpose</th>\n",
       "    </tr>\n",
       "  </thead>\n",
       "  <tbody>\n",
       "    <tr>\n",
       "      <th>0</th>\n",
       "      <td>1</td>\n",
       "      <td>-8437.673028</td>\n",
       "      <td>42</td>\n",
       "      <td>высшее</td>\n",
       "      <td>0</td>\n",
       "      <td>женат / замужем</td>\n",
       "      <td>0</td>\n",
       "      <td>F</td>\n",
       "      <td>сотрудник</td>\n",
       "      <td>0</td>\n",
       "      <td>253875.639453</td>\n",
       "      <td>покупка жилья</td>\n",
       "    </tr>\n",
       "    <tr>\n",
       "      <th>1</th>\n",
       "      <td>1</td>\n",
       "      <td>-4024.803754</td>\n",
       "      <td>36</td>\n",
       "      <td>среднее</td>\n",
       "      <td>1</td>\n",
       "      <td>женат / замужем</td>\n",
       "      <td>0</td>\n",
       "      <td>F</td>\n",
       "      <td>сотрудник</td>\n",
       "      <td>0</td>\n",
       "      <td>112080.014102</td>\n",
       "      <td>приобретение автомобиля</td>\n",
       "    </tr>\n",
       "    <tr>\n",
       "      <th>2</th>\n",
       "      <td>0</td>\n",
       "      <td>-5623.422610</td>\n",
       "      <td>33</td>\n",
       "      <td>Среднее</td>\n",
       "      <td>1</td>\n",
       "      <td>женат / замужем</td>\n",
       "      <td>0</td>\n",
       "      <td>M</td>\n",
       "      <td>сотрудник</td>\n",
       "      <td>0</td>\n",
       "      <td>145885.952297</td>\n",
       "      <td>покупка жилья</td>\n",
       "    </tr>\n",
       "    <tr>\n",
       "      <th>3</th>\n",
       "      <td>3</td>\n",
       "      <td>-4124.747207</td>\n",
       "      <td>32</td>\n",
       "      <td>среднее</td>\n",
       "      <td>1</td>\n",
       "      <td>женат / замужем</td>\n",
       "      <td>0</td>\n",
       "      <td>M</td>\n",
       "      <td>сотрудник</td>\n",
       "      <td>0</td>\n",
       "      <td>267628.550329</td>\n",
       "      <td>дополнительное образование</td>\n",
       "    </tr>\n",
       "    <tr>\n",
       "      <th>4</th>\n",
       "      <td>0</td>\n",
       "      <td>340266.072047</td>\n",
       "      <td>53</td>\n",
       "      <td>среднее</td>\n",
       "      <td>1</td>\n",
       "      <td>гражданский брак</td>\n",
       "      <td>1</td>\n",
       "      <td>F</td>\n",
       "      <td>пенсионер</td>\n",
       "      <td>0</td>\n",
       "      <td>158616.077870</td>\n",
       "      <td>сыграть свадьбу</td>\n",
       "    </tr>\n",
       "  </tbody>\n",
       "</table>\n",
       "</div>"
      ],
      "text/plain": [
       "   children  days_employed  dob_years education  education_id  \\\n",
       "0         1   -8437.673028         42    высшее             0   \n",
       "1         1   -4024.803754         36   среднее             1   \n",
       "2         0   -5623.422610         33   Среднее             1   \n",
       "3         3   -4124.747207         32   среднее             1   \n",
       "4         0  340266.072047         53   среднее             1   \n",
       "\n",
       "      family_status  family_status_id gender income_type  debt   total_income  \\\n",
       "0   женат / замужем                 0      F   сотрудник     0  253875.639453   \n",
       "1   женат / замужем                 0      F   сотрудник     0  112080.014102   \n",
       "2   женат / замужем                 0      M   сотрудник     0  145885.952297   \n",
       "3   женат / замужем                 0      M   сотрудник     0  267628.550329   \n",
       "4  гражданский брак                 1      F   пенсионер     0  158616.077870   \n",
       "\n",
       "                      purpose  \n",
       "0               покупка жилья  \n",
       "1     приобретение автомобиля  \n",
       "2               покупка жилья  \n",
       "3  дополнительное образование  \n",
       "4             сыграть свадьбу  "
      ]
     },
     "execution_count": 783,
     "metadata": {},
     "output_type": "execute_result"
    }
   ],
   "source": [
    "# getting the first 5 table strings.\n",
    "df.head()"
   ]
  },
  {
   "cell_type": "code",
   "execution_count": 784,
   "metadata": {},
   "outputs": [
    {
     "name": "stdout",
     "output_type": "stream",
     "text": [
      "<class 'pandas.core.frame.DataFrame'>\n",
      "RangeIndex: 21525 entries, 0 to 21524\n",
      "Data columns (total 12 columns):\n",
      " #   Column            Non-Null Count  Dtype  \n",
      "---  ------            --------------  -----  \n",
      " 0   children          21525 non-null  int64  \n",
      " 1   days_employed     19351 non-null  float64\n",
      " 2   dob_years         21525 non-null  int64  \n",
      " 3   education         21525 non-null  object \n",
      " 4   education_id      21525 non-null  int64  \n",
      " 5   family_status     21525 non-null  object \n",
      " 6   family_status_id  21525 non-null  int64  \n",
      " 7   gender            21525 non-null  object \n",
      " 8   income_type       21525 non-null  object \n",
      " 9   debt              21525 non-null  int64  \n",
      " 10  total_income      19351 non-null  float64\n",
      " 11  purpose           21525 non-null  object \n",
      "dtypes: float64(2), int64(5), object(5)\n",
      "memory usage: 2.0+ MB\n"
     ]
    }
   ],
   "source": [
    "# looking at the general information\n",
    "df.info()"
   ]
  },
  {
   "cell_type": "code",
   "execution_count": 785,
   "metadata": {},
   "outputs": [
    {
     "data": {
      "text/html": [
       "<div>\n",
       "<style scoped>\n",
       "    .dataframe tbody tr th:only-of-type {\n",
       "        vertical-align: middle;\n",
       "    }\n",
       "\n",
       "    .dataframe tbody tr th {\n",
       "        vertical-align: top;\n",
       "    }\n",
       "\n",
       "    .dataframe thead th {\n",
       "        text-align: right;\n",
       "    }\n",
       "</style>\n",
       "<table border=\"1\" class=\"dataframe\">\n",
       "  <thead>\n",
       "    <tr style=\"text-align: right;\">\n",
       "      <th></th>\n",
       "      <th>children</th>\n",
       "      <th>days_employed</th>\n",
       "      <th>dob_years</th>\n",
       "      <th>education_id</th>\n",
       "      <th>family_status_id</th>\n",
       "      <th>debt</th>\n",
       "      <th>total_income</th>\n",
       "    </tr>\n",
       "  </thead>\n",
       "  <tbody>\n",
       "    <tr>\n",
       "      <th>count</th>\n",
       "      <td>21525.000000</td>\n",
       "      <td>19351.000000</td>\n",
       "      <td>21525.000000</td>\n",
       "      <td>21525.000000</td>\n",
       "      <td>21525.000000</td>\n",
       "      <td>21525.000000</td>\n",
       "      <td>1.935100e+04</td>\n",
       "    </tr>\n",
       "    <tr>\n",
       "      <th>mean</th>\n",
       "      <td>0.538908</td>\n",
       "      <td>63046.497661</td>\n",
       "      <td>43.293380</td>\n",
       "      <td>0.817236</td>\n",
       "      <td>0.972544</td>\n",
       "      <td>0.080883</td>\n",
       "      <td>1.674223e+05</td>\n",
       "    </tr>\n",
       "    <tr>\n",
       "      <th>std</th>\n",
       "      <td>1.381587</td>\n",
       "      <td>140827.311974</td>\n",
       "      <td>12.574584</td>\n",
       "      <td>0.548138</td>\n",
       "      <td>1.420324</td>\n",
       "      <td>0.272661</td>\n",
       "      <td>1.029716e+05</td>\n",
       "    </tr>\n",
       "    <tr>\n",
       "      <th>min</th>\n",
       "      <td>-1.000000</td>\n",
       "      <td>-18388.949901</td>\n",
       "      <td>0.000000</td>\n",
       "      <td>0.000000</td>\n",
       "      <td>0.000000</td>\n",
       "      <td>0.000000</td>\n",
       "      <td>2.066726e+04</td>\n",
       "    </tr>\n",
       "    <tr>\n",
       "      <th>25%</th>\n",
       "      <td>0.000000</td>\n",
       "      <td>-2747.423625</td>\n",
       "      <td>33.000000</td>\n",
       "      <td>1.000000</td>\n",
       "      <td>0.000000</td>\n",
       "      <td>0.000000</td>\n",
       "      <td>1.030532e+05</td>\n",
       "    </tr>\n",
       "    <tr>\n",
       "      <th>50%</th>\n",
       "      <td>0.000000</td>\n",
       "      <td>-1203.369529</td>\n",
       "      <td>42.000000</td>\n",
       "      <td>1.000000</td>\n",
       "      <td>0.000000</td>\n",
       "      <td>0.000000</td>\n",
       "      <td>1.450179e+05</td>\n",
       "    </tr>\n",
       "    <tr>\n",
       "      <th>75%</th>\n",
       "      <td>1.000000</td>\n",
       "      <td>-291.095954</td>\n",
       "      <td>53.000000</td>\n",
       "      <td>1.000000</td>\n",
       "      <td>1.000000</td>\n",
       "      <td>0.000000</td>\n",
       "      <td>2.034351e+05</td>\n",
       "    </tr>\n",
       "    <tr>\n",
       "      <th>max</th>\n",
       "      <td>20.000000</td>\n",
       "      <td>401755.400475</td>\n",
       "      <td>75.000000</td>\n",
       "      <td>4.000000</td>\n",
       "      <td>4.000000</td>\n",
       "      <td>1.000000</td>\n",
       "      <td>2.265604e+06</td>\n",
       "    </tr>\n",
       "  </tbody>\n",
       "</table>\n",
       "</div>"
      ],
      "text/plain": [
       "           children  days_employed     dob_years  education_id  \\\n",
       "count  21525.000000   19351.000000  21525.000000  21525.000000   \n",
       "mean       0.538908   63046.497661     43.293380      0.817236   \n",
       "std        1.381587  140827.311974     12.574584      0.548138   \n",
       "min       -1.000000  -18388.949901      0.000000      0.000000   \n",
       "25%        0.000000   -2747.423625     33.000000      1.000000   \n",
       "50%        0.000000   -1203.369529     42.000000      1.000000   \n",
       "75%        1.000000    -291.095954     53.000000      1.000000   \n",
       "max       20.000000  401755.400475     75.000000      4.000000   \n",
       "\n",
       "       family_status_id          debt  total_income  \n",
       "count      21525.000000  21525.000000  1.935100e+04  \n",
       "mean           0.972544      0.080883  1.674223e+05  \n",
       "std            1.420324      0.272661  1.029716e+05  \n",
       "min            0.000000      0.000000  2.066726e+04  \n",
       "25%            0.000000      0.000000  1.030532e+05  \n",
       "50%            0.000000      0.000000  1.450179e+05  \n",
       "75%            1.000000      0.000000  2.034351e+05  \n",
       "max            4.000000      1.000000  2.265604e+06  "
      ]
     },
     "execution_count": 785,
     "metadata": {},
     "output_type": "execute_result"
    }
   ],
   "source": [
    "# checking numeric values\n",
    "df.describe()"
   ]
  },
  {
   "cell_type": "code",
   "execution_count": 786,
   "metadata": {},
   "outputs": [
    {
     "data": {
      "text/plain": [
       "children               0\n",
       "days_employed       2174\n",
       "dob_years              0\n",
       "education              0\n",
       "education_id           0\n",
       "family_status          0\n",
       "family_status_id       0\n",
       "gender                 0\n",
       "income_type            0\n",
       "debt                   0\n",
       "total_income        2174\n",
       "purpose                0\n",
       "dtype: int64"
      ]
     },
     "execution_count": 786,
     "metadata": {},
     "output_type": "execute_result"
    }
   ],
   "source": [
    "# checking for at the NaN values\n",
    "df.isnull().sum()"
   ]
  },
  {
   "cell_type": "markdown",
   "metadata": {},
   "source": [
    "**Summary:** We have a table with the total of 21525 rows and 12 columns of clients' data. Data types include float64, int64, and object. \n",
    "Findings:\n",
    "\n",
    "1. 'total_income', 'days_employed' each have 2174 NaN values. \n",
    "2. 'days_employed': has negative and very big values, such as '-18388.949901' and '401755.400475'. The data in this column doesn't make sense as it is meant to represent the number of days of the employment. It is necessary to request more information about this data.\n",
    "3. 'children': the number of children '-1' and '20'\n",
    "4. 'dob_years': some of the client's data indicate their age as '0' years\n",
    "5. 'education', 'education_id': there are 15 unique values in 'education' and 5 in 'education_id'\n",
    "6. 'gender': 3 unique values: female, male, and N/A\n",
    "\n",
    "Possible reasons for missing values & errors in the data above: In this case, it might be the concealment of the personal information by the client (about the employment and income level). Another possibility is the data entry errors."
   ]
  },
  {
   "cell_type": "markdown",
   "metadata": {},
   "source": [
    "## Step 2. Data preprocessing"
   ]
  },
  {
   "cell_type": "markdown",
   "metadata": {},
   "source": [
    "### Processing the data with errors"
   ]
  },
  {
   "cell_type": "markdown",
   "metadata": {},
   "source": [
    "Now we need to process the column 'children' where we saw such improbable values as -1 and 20 (number of children):"
   ]
  },
  {
   "cell_type": "code",
   "execution_count": 787,
   "metadata": {},
   "outputs": [
    {
     "name": "stdout",
     "output_type": "stream",
     "text": [
      " 0     14149\n",
      " 1      4818\n",
      " 2      2055\n",
      " 3       330\n",
      " 20       76\n",
      "-1        47\n",
      " 4        41\n",
      " 5         9\n",
      "Name: children, dtype: int64\n"
     ]
    }
   ],
   "source": [
    "# check the values\n",
    "print(df['children'].value_counts())"
   ]
  },
  {
   "cell_type": "markdown",
   "metadata": {},
   "source": [
    "Following the logic that 20 and -1 were data entry errors, we can replace them assuming that 20 is an error for 2 children, and -1 is an error for 0 "
   ]
  },
  {
   "cell_type": "code",
   "execution_count": 788,
   "metadata": {},
   "outputs": [
    {
     "name": "stdout",
     "output_type": "stream",
     "text": [
      "0    14196\n",
      "1     4818\n",
      "2     2131\n",
      "3      330\n",
      "4       41\n",
      "5        9\n",
      "Name: children, dtype: int64\n"
     ]
    }
   ],
   "source": [
    "df['children'] = df['children'].mask(df['children']==20, 2) \n",
    "df['children'] = df['children'].mask(df['children']==(-1), 0) \n",
    "\n",
    "    # check \n",
    "print(df['children'].value_counts())"
   ]
  },
  {
   "cell_type": "markdown",
   "metadata": {},
   "source": [
    "**Summary:** We have processed the data in 'children' column and now the minimum number of children is 0 and maximum is 5, which seems reasonable"
   ]
  },
  {
   "cell_type": "markdown",
   "metadata": {},
   "source": [
    "### Processing the missing values"
   ]
  },
  {
   "cell_type": "markdown",
   "metadata": {},
   "source": [
    "To process the missing values in the data without affecting its accuracy, we need to divide data in groups (where possible) and fill in the missing values within each group.\n",
    "\n",
    "For example, 'total_income' has 2174 missing values but we also know that we have a calumn 'income_types' (with such values as 'employee', 'retired') that could help us identify their level of income, so we will group 'total_income' by 'income_types' and will find a median value in each group."
   ]
  },
  {
   "cell_type": "code",
   "execution_count": 789,
   "metadata": {},
   "outputs": [],
   "source": [
    "# grouping 'total_income' by 'income_type'\n",
    "income_dict = dict(df.groupby('income_type')['total_income'].median())"
   ]
  },
  {
   "cell_type": "code",
   "execution_count": 790,
   "metadata": {},
   "outputs": [],
   "source": [
    "# replacing the missing values in 'total_income' column with values from 'income_dict'\n",
    "df['total_income'] = df['total_income'].fillna(df['income_type'].apply(lambda x: income_dict.get(x)))"
   ]
  },
  {
   "cell_type": "code",
   "execution_count": 791,
   "metadata": {},
   "outputs": [
    {
     "name": "stdout",
     "output_type": "stream",
     "text": [
      "<class 'pandas.core.frame.DataFrame'>\n",
      "RangeIndex: 21525 entries, 0 to 21524\n",
      "Data columns (total 12 columns):\n",
      " #   Column            Non-Null Count  Dtype  \n",
      "---  ------            --------------  -----  \n",
      " 0   children          21525 non-null  int64  \n",
      " 1   days_employed     21525 non-null  float64\n",
      " 2   dob_years         21525 non-null  int64  \n",
      " 3   education         21525 non-null  object \n",
      " 4   education_id      21525 non-null  int64  \n",
      " 5   family_status     21525 non-null  object \n",
      " 6   family_status_id  21525 non-null  int64  \n",
      " 7   gender            21525 non-null  object \n",
      " 8   income_type       21525 non-null  object \n",
      " 9   debt              21525 non-null  int64  \n",
      " 10  total_income      21525 non-null  float64\n",
      " 11  purpose           21525 non-null  object \n",
      "dtypes: float64(2), int64(5), object(5)\n",
      "memory usage: 2.0+ MB\n"
     ]
    }
   ],
   "source": [
    "\n",
    "# filling in the missing values in 'days_employed' column with median, but without the dictionary\n",
    "# because number of days of employment does not depend on the other parameters in the dataset\n",
    "df['days_employed'] = df['days_employed'].fillna(df['days_employed'].median())\n",
    "     #Check:\n",
    "df.info()"
   ]
  },
  {
   "cell_type": "markdown",
   "metadata": {},
   "source": [
    "**Summary:** We've processed the missing values and can move on to the next step"
   ]
  },
  {
   "cell_type": "markdown",
   "metadata": {},
   "source": [
    "### Data type replacement"
   ]
  },
  {
   "cell_type": "code",
   "execution_count": 792,
   "metadata": {},
   "outputs": [
    {
     "name": "stdout",
     "output_type": "stream",
     "text": [
      "<class 'pandas.core.frame.DataFrame'>\n",
      "RangeIndex: 21525 entries, 0 to 21524\n",
      "Data columns (total 12 columns):\n",
      " #   Column            Non-Null Count  Dtype \n",
      "---  ------            --------------  ----- \n",
      " 0   children          21525 non-null  int64 \n",
      " 1   days_employed     21525 non-null  int32 \n",
      " 2   dob_years         21525 non-null  int64 \n",
      " 3   education         21525 non-null  object\n",
      " 4   education_id      21525 non-null  int64 \n",
      " 5   family_status     21525 non-null  object\n",
      " 6   family_status_id  21525 non-null  int64 \n",
      " 7   gender            21525 non-null  object\n",
      " 8   income_type       21525 non-null  object\n",
      " 9   debt              21525 non-null  int64 \n",
      " 10  total_income      21525 non-null  int32 \n",
      " 11  purpose           21525 non-null  object\n",
      "dtypes: int32(2), int64(5), object(5)\n",
      "memory usage: 1.8+ MB\n"
     ]
    }
   ],
   "source": [
    "# replacing data types for the total_income', 'days_employed' with .astype() method\n",
    "df[['days_employed', 'total_income']] = df[['days_employed', 'total_income']].astype('int')\n",
    "    # Check\n",
    "df.info()"
   ]
  },
  {
   "cell_type": "markdown",
   "metadata": {},
   "source": [
    "**Summary:** We've replaced the 'float64' data type with 'int64' for convenience and clarity"
   ]
  },
  {
   "cell_type": "markdown",
   "metadata": {},
   "source": [
    "### Processing the data duplicates"
   ]
  },
  {
   "cell_type": "code",
   "execution_count": 793,
   "metadata": {},
   "outputs": [
    {
     "data": {
      "text/plain": [
       "среднее                13750\n",
       "высшее                  4718\n",
       "СРЕДНЕЕ                  772\n",
       "Среднее                  711\n",
       "неоконченное высшее      668\n",
       "ВЫСШЕЕ                   274\n",
       "Высшее                   268\n",
       "начальное                250\n",
       "Неоконченное высшее       47\n",
       "НЕОКОНЧЕННОЕ ВЫСШЕЕ       29\n",
       "НАЧАЛЬНОЕ                 17\n",
       "Начальное                 15\n",
       "ученая степень             4\n",
       "Ученая степень             1\n",
       "УЧЕНАЯ СТЕПЕНЬ             1\n",
       "Name: education, dtype: int64"
      ]
     },
     "execution_count": 793,
     "metadata": {},
     "output_type": "execute_result"
    }
   ],
   "source": [
    "# checking the values in 'education'\n",
    "df['education'].value_counts() "
   ]
  },
  {
   "cell_type": "markdown",
   "metadata": {},
   "source": [
    "* **Eng translation** \n",
    "<br>secondary education    13750\n",
    "<br>masters degree          4718\n",
    "<br>SECONDARY EDUCATION      772\n",
    "<br>Secondary Education      711\n",
    "<br>bachelor degree          668\n",
    "<br>MASTERS DEGREE           274\n",
    "<br>Masters Degree           268\n",
    "<br>primary education        250\n",
    "<br>Bachelor Degree           47\n",
    "<br>BACHELOR DEGREE           29\n",
    "<br>PRIMARY EDUCATION         17\n",
    "<br>Primary Education         15\n",
    "<br>academic degree            4\n",
    "<br>ACADEMIC DEGREE            1\n",
    "<br> Academic Degree            1\n",
    "\n",
    "We can see that we have duplicates in this column that need to be processed."
   ]
  },
  {
   "cell_type": "code",
   "execution_count": 794,
   "metadata": {},
   "outputs": [
    {
     "data": {
      "text/plain": [
       "среднее                15233\n",
       "высшее                  5260\n",
       "неоконченное высшее      744\n",
       "начальное                282\n",
       "ученая степень             6\n",
       "Name: education, dtype: int64"
      ]
     },
     "execution_count": 794,
     "metadata": {},
     "output_type": "execute_result"
    }
   ],
   "source": [
    "# using  str.lower() method\n",
    "df['education'] = df['education'].str.lower()\n",
    "\n",
    "    # Check\n",
    "df['education'].value_counts()"
   ]
  },
  {
   "cell_type": "markdown",
   "metadata": {},
   "source": [
    "* **Eng translation**\n",
    "<br>secondary education    15233\n",
    "<br>masters degree          5260\n",
    "<br>bachelor degree          744\n",
    "<br>primary education        282\n",
    "<br>academic degree            6\n",
    "\n",
    "**Summary:** by bringing the data in 'education' to lowercase, we now have 'education' with 'education_id' in the same row and duplicates are sorted"
   ]
  },
  {
   "cell_type": "code",
   "execution_count": 795,
   "metadata": {},
   "outputs": [
    {
     "name": "stdout",
     "output_type": "stream",
     "text": [
      "Remaining duplicates: 71\n"
     ]
    }
   ],
   "source": [
    "# counting teh remaining number of duplicates in the dataframe\n",
    "print('Remaining duplicates:',df.duplicated().sum())"
   ]
  },
  {
   "cell_type": "code",
   "execution_count": 796,
   "metadata": {},
   "outputs": [
    {
     "name": "stdout",
     "output_type": "stream",
     "text": [
      "Remaining duplicates after dropping: 0\n"
     ]
    }
   ],
   "source": [
    "# dropping duplicates + check\n",
    "df = df.drop_duplicates().reset_index(drop= True)\n",
    "print('Remaining duplicates after dropping:',df.duplicated().sum())"
   ]
  },
  {
   "cell_type": "markdown",
   "metadata": {},
   "source": [
    "**Summary:** We've dropped all the data duplicates."
   ]
  },
  {
   "cell_type": "markdown",
   "metadata": {},
   "source": [
    "### Stemming/Lemmatization"
   ]
  },
  {
   "cell_type": "markdown",
   "metadata": {},
   "source": [
    "We need to stem (or lemmatize) a 'purpose' column. To see which method is better, let's check its unique values first:"
   ]
  },
  {
   "cell_type": "code",
   "execution_count": 797,
   "metadata": {},
   "outputs": [
    {
     "data": {
      "text/plain": [
       "свадьба                                   791\n",
       "на проведение свадьбы                     768\n",
       "сыграть свадьбу                           765\n",
       "операции с недвижимостью                  675\n",
       "покупка коммерческой недвижимости         661\n",
       "операции с жильем                         652\n",
       "покупка жилья для сдачи                   651\n",
       "операции с коммерческой недвижимостью     650\n",
       "покупка жилья                             646\n",
       "жилье                                     646\n",
       "покупка жилья для семьи                   638\n",
       "строительство собственной недвижимости    635\n",
       "недвижимость                              633\n",
       "операции со своей недвижимостью           627\n",
       "строительство жилой недвижимости          624\n",
       "покупка недвижимости                      621\n",
       "покупка своего жилья                      620\n",
       "строительство недвижимости                619\n",
       "ремонт жилью                              607\n",
       "покупка жилой недвижимости                606\n",
       "на покупку своего автомобиля              505\n",
       "заняться высшим образованием              496\n",
       "автомобиль                                495\n",
       "сделка с подержанным автомобилем          486\n",
       "свой автомобиль                           478\n",
       "на покупку подержанного автомобиля        478\n",
       "автомобили                                477\n",
       "на покупку автомобиля                     471\n",
       "приобретение автомобиля                   461\n",
       "дополнительное образование                460\n",
       "сделка с автомобилем                      455\n",
       "высшее образование                        452\n",
       "образование                               447\n",
       "получение дополнительного образования     446\n",
       "получение образования                     442\n",
       "профильное образование                    436\n",
       "получение высшего образования             426\n",
       "заняться образованием                     408\n",
       "Name: purpose, dtype: int64"
      ]
     },
     "execution_count": 797,
     "metadata": {},
     "output_type": "execute_result"
    }
   ],
   "source": [
    "# using .value_couns()\n",
    "df['purpose'].value_counts()"
   ]
  },
  {
   "cell_type": "markdown",
   "metadata": {},
   "source": [
    "* **Eng translation:**\n",
    "<p>wedding ceremony                                 791<br>\n",
    "having a wedding                                 768<br>\n",
    "to have a wedding                                765<br>\n",
    "real estate transactions                         675<br>\n",
    "buy commercial real estate                       661<br>\n",
    "housing transactions                             652<br>\n",
    "buying property for renting out                  651<br>\n",
    "transactions with the residential real estate    650<br>\n",
    "purchase of the house                            646<br>\n",
    "housing                                          646<br>\n",
    "purchase of the house for my family              638<br>\n",
    "construction of own property                     635<br>\n",
    "property                                         633<br>\n",
    "transactions with my real estate                 627<br>\n",
    "building a real estate                           624<br>\n",
    "buy real estate                                  621<br>\n",
    "purchase of my own house                         620<br>\n",
    "building a property                              619<br>\n",
    "property renovation                              607<br>\n",
    "buy residential real estate                      606<br>\n",
    "buying my own car                                505<br>\n",
    "going to university                              496<br>\n",
    "car                                              494<br>\n",
    "second-hand car purchase                         486<br>\n",
    "cars                                             478<br>\n",
    "buying a second-hand car                         478<br>\n",
    "to own a car                                     478<br>\n",
    "to buy a car                                     471<br>\n",
    "car purchase                                     461<br>\n",
    "supplementary education                          460<br>\n",
    "purchase of a car                                455<br>\n",
    "university education                             452<br>\n",
    "education                                        447<br>\n",
    "to get asupplementary education                  446<br>\n",
    "getting an education                             442<br>\n",
    "profile education                                436<br>\n",
    "getting higher education                         426<br>\n",
    "to become educated                               408\n"
   ]
  },
  {
   "cell_type": "markdown",
   "metadata": {},
   "source": [
    "Find a stem the 'purpose' column:"
   ]
  },
  {
   "cell_type": "code",
   "execution_count": 798,
   "metadata": {},
   "outputs": [
    {
     "data": {
      "text/plain": [
       "свадьб                            791\n",
       "на проведен свадьб                768\n",
       "сыгра свадьб                      765\n",
       "операц с недвижим                 675\n",
       "покупк коммерческ недвижим        661\n",
       "операц с жил                      652\n",
       "покупк жил для сдач               651\n",
       "операц с коммерческ недвижим      650\n",
       "покупк жил                        646\n",
       "жил                               646\n",
       "покупк жил для сем                638\n",
       "строительств собствен недвижим    635\n",
       "недвижим                          633\n",
       "операц со сво недвижим            627\n",
       "строительств жил недвижим         624\n",
       "покупк недвижим                   621\n",
       "покупк сво жил                    620\n",
       "строительств недвижим             619\n",
       "ремонт жил                        607\n",
       "покупк жил недвижим               606\n",
       "на покупк сво автомобил           505\n",
       "заня высш образован               496\n",
       "автомобил                         495\n",
       "сделк с подержа автомобил         486\n",
       "сво автомобил                     478\n",
       "на покупк подержа автомобил       478\n",
       "автомоб                           477\n",
       "на покупк автомобил               471\n",
       "приобретен автомобил              461\n",
       "дополнительн образован            460\n",
       "сделк с автомобил                 455\n",
       "высш образован                    452\n",
       "образован                         447\n",
       "получен дополнительн образован    446\n",
       "получен образован                 442\n",
       "профильн образован                436\n",
       "получен высш образован            426\n",
       "заня образован                    408\n",
       "Name: purpose, dtype: int64"
      ]
     },
     "execution_count": 798,
     "metadata": {},
     "output_type": "execute_result"
    }
   ],
   "source": [
    "def stem_text(text):\n",
    "    words = text.split() # split text\n",
    "    new_text = ' '.join([russian_stemmer.stem(w) for w in words])\n",
    "    return new_text\n",
    "\n",
    "df['purpose'] = df['purpose'].apply(stem_text)\n",
    "\n",
    "# check the values\n",
    "df['purpose'].value_counts() "
   ]
  },
  {
   "cell_type": "markdown",
   "metadata": {},
   "source": [
    "* **Eng translation:**\n",
    "<p>car                                             972<br>\n",
    "wedding ceremony                                791<br>\n",
    "having a wedding                                768<br>\n",
    "to have a wedding                               765<br>\n",
    "real estate transaction                         675<br>\n",
    "buy commercial real estate                      661<br>\n",
    "housing transaction                             652<br>\n",
    "buying property for renting out                 651<br>\n",
    "transaction with the residential real estate    650<br>\n",
    "purchase of the house                           646<br>\n",
    "housing                                         646<br>\n",
    "purchase of the house for my family             638<br>\n",
    "construction of own property                    635<br>\n",
    "property                                        633<br>\n",
    "transaction with my real estate                 627<br>\n",
    "building a real estate                          624<br>\n",
    "buy real estate                                 621<br>\n",
    "purchase of my own house                        620<br>\n",
    "building a property                             619<br>\n",
    "property renovation                             607<br>\n",
    "buy residential real estate                     606<br>\n",
    "buying my own car                               505<br>\n",
    "going to university                             496<br>\n",
    "second-hand car purchase                        486<br>\n",
    "buying a second-hand car                        478<br>\n",
    "to own a car                                    478<br>\n",
    "to buy a car                                    471<br>\n",
    "car purchase                                    461<br>\n",
    "supplementary education                         460<br>\n",
    "purchase of a car                               455<br>\n",
    "university education                            452<br>\n",
    "education                                       447<br>\n",
    "to get asupplementary education                 446<br>\n",
    "getting an education                            442<br>\n",
    "profile education                               436<br>\n",
    "getting higher education                        426<br>\n",
    "to become educated                              408</p>"
   ]
  },
  {
   "cell_type": "markdown",
   "metadata": {},
   "source": [
    "**Summary:** We've completed the stemming and now we can use it to group our data"
   ]
  },
  {
   "cell_type": "markdown",
   "metadata": {},
   "source": [
    "### Categorizing Data"
   ]
  },
  {
   "cell_type": "markdown",
   "metadata": {},
   "source": [
    "#### Categorising data in 'purpose'"
   ]
  },
  {
   "cell_type": "markdown",
   "metadata": {},
   "source": [
    "We have identified 4 big groups in a 'purpose'. Now we will group the data by assigning 'автомобиль'(\"car\"), 'свадьба'(\"wedding\"), 'недвижимость'(\"real estate\"), 'образование'(\"education\"):"
   ]
  },
  {
   "cell_type": "code",
   "execution_count": 799,
   "metadata": {},
   "outputs": [
    {
     "data": {
      "text/html": [
       "<div>\n",
       "<style scoped>\n",
       "    .dataframe tbody tr th:only-of-type {\n",
       "        vertical-align: middle;\n",
       "    }\n",
       "\n",
       "    .dataframe tbody tr th {\n",
       "        vertical-align: top;\n",
       "    }\n",
       "\n",
       "    .dataframe thead th {\n",
       "        text-align: right;\n",
       "    }\n",
       "</style>\n",
       "<table border=\"1\" class=\"dataframe\">\n",
       "  <thead>\n",
       "    <tr style=\"text-align: right;\">\n",
       "      <th></th>\n",
       "      <th>children</th>\n",
       "      <th>days_employed</th>\n",
       "      <th>dob_years</th>\n",
       "      <th>education</th>\n",
       "      <th>education_id</th>\n",
       "      <th>family_status</th>\n",
       "      <th>family_status_id</th>\n",
       "      <th>gender</th>\n",
       "      <th>income_type</th>\n",
       "      <th>debt</th>\n",
       "      <th>total_income</th>\n",
       "      <th>purpose</th>\n",
       "    </tr>\n",
       "  </thead>\n",
       "  <tbody>\n",
       "    <tr>\n",
       "      <th>0</th>\n",
       "      <td>1</td>\n",
       "      <td>-8437</td>\n",
       "      <td>42</td>\n",
       "      <td>высшее</td>\n",
       "      <td>0</td>\n",
       "      <td>женат / замужем</td>\n",
       "      <td>0</td>\n",
       "      <td>F</td>\n",
       "      <td>сотрудник</td>\n",
       "      <td>0</td>\n",
       "      <td>253875</td>\n",
       "      <td>недвижимость</td>\n",
       "    </tr>\n",
       "    <tr>\n",
       "      <th>1</th>\n",
       "      <td>1</td>\n",
       "      <td>-4024</td>\n",
       "      <td>36</td>\n",
       "      <td>среднее</td>\n",
       "      <td>1</td>\n",
       "      <td>женат / замужем</td>\n",
       "      <td>0</td>\n",
       "      <td>F</td>\n",
       "      <td>сотрудник</td>\n",
       "      <td>0</td>\n",
       "      <td>112080</td>\n",
       "      <td>автомобиль</td>\n",
       "    </tr>\n",
       "    <tr>\n",
       "      <th>2</th>\n",
       "      <td>0</td>\n",
       "      <td>-5623</td>\n",
       "      <td>33</td>\n",
       "      <td>среднее</td>\n",
       "      <td>1</td>\n",
       "      <td>женат / замужем</td>\n",
       "      <td>0</td>\n",
       "      <td>M</td>\n",
       "      <td>сотрудник</td>\n",
       "      <td>0</td>\n",
       "      <td>145885</td>\n",
       "      <td>недвижимость</td>\n",
       "    </tr>\n",
       "    <tr>\n",
       "      <th>3</th>\n",
       "      <td>3</td>\n",
       "      <td>-4124</td>\n",
       "      <td>32</td>\n",
       "      <td>среднее</td>\n",
       "      <td>1</td>\n",
       "      <td>женат / замужем</td>\n",
       "      <td>0</td>\n",
       "      <td>M</td>\n",
       "      <td>сотрудник</td>\n",
       "      <td>0</td>\n",
       "      <td>267628</td>\n",
       "      <td>образование</td>\n",
       "    </tr>\n",
       "    <tr>\n",
       "      <th>4</th>\n",
       "      <td>0</td>\n",
       "      <td>340266</td>\n",
       "      <td>53</td>\n",
       "      <td>среднее</td>\n",
       "      <td>1</td>\n",
       "      <td>гражданский брак</td>\n",
       "      <td>1</td>\n",
       "      <td>F</td>\n",
       "      <td>пенсионер</td>\n",
       "      <td>0</td>\n",
       "      <td>158616</td>\n",
       "      <td>свадьба</td>\n",
       "    </tr>\n",
       "  </tbody>\n",
       "</table>\n",
       "</div>"
      ],
      "text/plain": [
       "   children  days_employed  dob_years education  education_id  \\\n",
       "0         1          -8437         42    высшее             0   \n",
       "1         1          -4024         36   среднее             1   \n",
       "2         0          -5623         33   среднее             1   \n",
       "3         3          -4124         32   среднее             1   \n",
       "4         0         340266         53   среднее             1   \n",
       "\n",
       "      family_status  family_status_id gender income_type  debt  total_income  \\\n",
       "0   женат / замужем                 0      F   сотрудник     0        253875   \n",
       "1   женат / замужем                 0      F   сотрудник     0        112080   \n",
       "2   женат / замужем                 0      M   сотрудник     0        145885   \n",
       "3   женат / замужем                 0      M   сотрудник     0        267628   \n",
       "4  гражданский брак                 1      F   пенсионер     0        158616   \n",
       "\n",
       "        purpose  \n",
       "0  недвижимость  \n",
       "1    автомобиль  \n",
       "2  недвижимость  \n",
       "3   образование  \n",
       "4       свадьба  "
      ]
     },
     "execution_count": 799,
     "metadata": {},
     "output_type": "execute_result"
    }
   ],
   "source": [
    "def lemma_group(text):\n",
    "    if russian_stemmer.stem('автомобиль') in text:\n",
    "        return 'автомобиль'\n",
    "    if russian_stemmer.stem('свадьба') in text:\n",
    "        return 'свадьба'\n",
    "    if russian_stemmer.stem('недвижимость') in text or russian_stemmer.stem('имущество') in text or russian_stemmer.stem('дом') in text or russian_stemmer.stem('жильё') in text:\n",
    "        return 'недвижимость'\n",
    "    if russian_stemmer.stem('университет') in text or russian_stemmer.stem('образование') in text:\n",
    "        return 'образование'\n",
    "\n",
    "df['purpose'] = df['purpose'].apply(lemma_group)\n",
    "\n",
    "    # check\n",
    "df.head()"
   ]
  },
  {
   "cell_type": "markdown",
   "metadata": {},
   "source": [
    "Which is the most popular 'purpose' of credit in the bank?"
   ]
  },
  {
   "cell_type": "code",
   "execution_count": 800,
   "metadata": {},
   "outputs": [
    {
     "data": {
      "text/plain": [
       "недвижимость    10811\n",
       "образование      4013\n",
       "автомобиль       3829\n",
       "свадьба          2324\n",
       "Name: purpose, dtype: int64"
      ]
     },
     "execution_count": 800,
     "metadata": {},
     "output_type": "execute_result"
    }
   ],
   "source": [
    "df['purpose'].value_counts()"
   ]
  },
  {
   "cell_type": "markdown",
   "metadata": {},
   "source": [
    "* **Eng translation:**\n",
    "<p>real estate    10811<br>\n",
    "car             4306<br>\n",
    "education       4013<br>\n",
    "wedding         2324</p>\n",
    "\n",
    "As we can see, the most popular reason to take a credit is a 'real estate' with a total of 10811 number of values. This seems like a reasonable answer as the cost of the real estat is very high and is unafordable for majority of the population. The least popular reason for taking a bank credit is 'wedding', with only 2324 values."
   ]
  },
  {
   "cell_type": "markdown",
   "metadata": {},
   "source": [
    "#### Categorizing the data in 'family_status'"
   ]
  },
  {
   "cell_type": "code",
   "execution_count": 801,
   "metadata": {},
   "outputs": [
    {
     "data": {
      "text/plain": [
       "женат / замужем          12339\n",
       "гражданский брак          4151\n",
       "Не женат / не замужем     2810\n",
       "в разводе                 1195\n",
       "вдовец / вдова             959\n",
       "Name: family_status, dtype: int64"
      ]
     },
     "execution_count": 801,
     "metadata": {},
     "output_type": "execute_result"
    }
   ],
   "source": [
    "# check the values\n",
    "df['family_status'].value_counts() "
   ]
  },
  {
   "cell_type": "markdown",
   "metadata": {},
   "source": [
    "* **Eng translation**\n",
    "<p>family_status\tfamily_status_id<br>\n",
    "0\tmarried\t12339<br>\n",
    "1\tcivil partnership\t4151<br>\n",
    "2\twidow / widower\t2810<br>\n",
    "3\tdivorced\t1195<br>\n",
    "4\tunmarried\t959</p>"
   ]
  },
  {
   "cell_type": "markdown",
   "metadata": {},
   "source": [
    "The results for 'family_status' and 'family_status_id' represent the same thing, so we can group them together:"
   ]
  },
  {
   "cell_type": "code",
   "execution_count": 802,
   "metadata": {},
   "outputs": [
    {
     "data": {
      "text/html": [
       "<div>\n",
       "<style scoped>\n",
       "    .dataframe tbody tr th:only-of-type {\n",
       "        vertical-align: middle;\n",
       "    }\n",
       "\n",
       "    .dataframe tbody tr th {\n",
       "        vertical-align: top;\n",
       "    }\n",
       "\n",
       "    .dataframe thead th {\n",
       "        text-align: right;\n",
       "    }\n",
       "</style>\n",
       "<table border=\"1\" class=\"dataframe\">\n",
       "  <thead>\n",
       "    <tr style=\"text-align: right;\">\n",
       "      <th></th>\n",
       "      <th>family_status</th>\n",
       "      <th>family_status_id</th>\n",
       "    </tr>\n",
       "  </thead>\n",
       "  <tbody>\n",
       "    <tr>\n",
       "      <th>0</th>\n",
       "      <td>женат / замужем</td>\n",
       "      <td>0</td>\n",
       "    </tr>\n",
       "    <tr>\n",
       "      <th>1</th>\n",
       "      <td>гражданский брак</td>\n",
       "      <td>1</td>\n",
       "    </tr>\n",
       "    <tr>\n",
       "      <th>2</th>\n",
       "      <td>вдовец / вдова</td>\n",
       "      <td>2</td>\n",
       "    </tr>\n",
       "    <tr>\n",
       "      <th>3</th>\n",
       "      <td>в разводе</td>\n",
       "      <td>3</td>\n",
       "    </tr>\n",
       "    <tr>\n",
       "      <th>4</th>\n",
       "      <td>Не женат / не замужем</td>\n",
       "      <td>4</td>\n",
       "    </tr>\n",
       "  </tbody>\n",
       "</table>\n",
       "</div>"
      ],
      "text/plain": [
       "           family_status  family_status_id\n",
       "0        женат / замужем                 0\n",
       "1       гражданский брак                 1\n",
       "2         вдовец / вдова                 2\n",
       "3              в разводе                 3\n",
       "4  Не женат / не замужем                 4"
      ]
     },
     "metadata": {},
     "output_type": "display_data"
    }
   ],
   "source": [
    "# creating the dictionary for 'family_status', 'family_status_id', droping the duplicates\n",
    "family_dict = df[['family_status', 'family_status_id']].drop_duplicates().reset_index(drop=True)\n",
    "display(family_dict)"
   ]
  },
  {
   "cell_type": "markdown",
   "metadata": {},
   "source": [
    "* **Eng translation**\n",
    "<p>family_status\tfamily_status_id<br>\n",
    "0\tmarried\t0<br>\n",
    "1\tcivil partnership\t1<br>\n",
    "2\twidow / widower\t2<br>\n",
    "3\tdivorced\t3<br>\n",
    "4\tunmarried\t4</p>"
   ]
  },
  {
   "cell_type": "markdown",
   "metadata": {},
   "source": [
    "Now we can safely drop 'family_status_id' column."
   ]
  },
  {
   "cell_type": "code",
   "execution_count": 803,
   "metadata": {},
   "outputs": [
    {
     "name": "stdout",
     "output_type": "stream",
     "text": [
      "<class 'pandas.core.frame.DataFrame'>\n",
      "RangeIndex: 21454 entries, 0 to 21453\n",
      "Data columns (total 11 columns):\n",
      " #   Column         Non-Null Count  Dtype \n",
      "---  ------         --------------  ----- \n",
      " 0   children       21454 non-null  int64 \n",
      " 1   days_employed  21454 non-null  int32 \n",
      " 2   dob_years      21454 non-null  int64 \n",
      " 3   education      21454 non-null  object\n",
      " 4   education_id   21454 non-null  int64 \n",
      " 5   family_status  21454 non-null  object\n",
      " 6   gender         21454 non-null  object\n",
      " 7   income_type    21454 non-null  object\n",
      " 8   debt           21454 non-null  int64 \n",
      " 9   total_income   21454 non-null  int32 \n",
      " 10  purpose        20977 non-null  object\n",
      "dtypes: int32(2), int64(4), object(5)\n",
      "memory usage: 1.6+ MB\n"
     ]
    }
   ],
   "source": [
    "# dropping 'family_status_id' column\n",
    "df.drop(columns=['family_status_id'],inplace=True)\n",
    "\n",
    "# check the results\n",
    "df.info()"
   ]
  },
  {
   "cell_type": "markdown",
   "metadata": {},
   "source": [
    "#### Categorizing the data in 'total_income'"
   ]
  },
  {
   "cell_type": "code",
   "execution_count": 804,
   "metadata": {},
   "outputs": [
    {
     "data": {
      "text/plain": [
       "count    2.145400e+04\n",
       "mean     1.653196e+05\n",
       "std      9.818730e+04\n",
       "min      2.066700e+04\n",
       "25%      1.076230e+05\n",
       "50%      1.425940e+05\n",
       "75%      1.958202e+05\n",
       "max      2.265604e+06\n",
       "Name: total_income, dtype: float64"
      ]
     },
     "execution_count": 804,
     "metadata": {},
     "output_type": "execute_result"
    }
   ],
   "source": [
    "# using .describe() method to know min, 25 %, mean, 75 % and max income\n",
    "df['total_income'].describe() "
   ]
  },
  {
   "cell_type": "markdown",
   "metadata": {},
   "source": [
    "Divide the data by 4 main levels of income: 'низкий'(as for 'low'), 'средний' (as for 'middle'), 'выше среднего' (as for 'high'), 'высокий' (as for 'very high')"
   ]
  },
  {
   "cell_type": "code",
   "execution_count": 805,
   "metadata": {},
   "outputs": [
    {
     "data": {
      "text/plain": [
       "средний          6574\n",
       "низкий           5368\n",
       "высокий          4909\n",
       "выше среднего    4603\n",
       "Name: income_level, dtype: int64"
      ]
     },
     "execution_count": 805,
     "metadata": {},
     "output_type": "execute_result"
    }
   ],
   "source": [
    "def income_level(income):\n",
    "    if income < 1.076522e+05:\n",
    "        return 'низкий'\n",
    "    if income < 1.518870e+05:\n",
    "        return 'средний'\n",
    "    if income < 2.024170e+05:\n",
    "        return 'выше среднего'\n",
    "    else:\n",
    "        return 'высокий'\n",
    "\n",
    "# using .apply() method to process column\n",
    "df['income_level'] = df['total_income'].apply(income_level) \n",
    "\n",
    "# check the values\n",
    "df['income_level'].value_counts() "
   ]
  },
  {
   "cell_type": "markdown",
   "metadata": {},
   "source": [
    "* **Eng translation**\n",
    "<p>middle       5870<br>\n",
    "low     5359<br>\n",
    "high    5317<br>\n",
    "very high       4908</p>"
   ]
  },
  {
   "cell_type": "markdown",
   "metadata": {},
   "source": [
    "We divided people by income and now its clear that the clients with the income tipe of 'middle' take the most credits in this bank"
   ]
  },
  {
   "cell_type": "markdown",
   "metadata": {},
   "source": [
    "#### Categorizing the data in \"debt\""
   ]
  },
  {
   "cell_type": "code",
   "execution_count": 806,
   "metadata": {},
   "outputs": [
    {
     "data": {
      "text/plain": [
       "0    19713\n",
       "1     1741\n",
       "Name: debt, dtype: int64"
      ]
     },
     "execution_count": 806,
     "metadata": {},
     "output_type": "execute_result"
    }
   ],
   "source": [
    "# check the values\n",
    "df['debt'].value_counts() "
   ]
  },
  {
   "cell_type": "markdown",
   "metadata": {},
   "source": [
    "1 here means that the client has defaulted on a loan.<br>\n",
    "0 means that the client repaid a loan."
   ]
  },
  {
   "cell_type": "markdown",
   "metadata": {},
   "source": [
    "Divide the data by 2 main categories: 'выплачен вовремя'(as for 'paid on time') and 'не выплачен' (as for 'defaulted')"
   ]
  },
  {
   "cell_type": "code",
   "execution_count": 807,
   "metadata": {},
   "outputs": [
    {
     "data": {
      "text/plain": [
       "выплачен вовремя    19713\n",
       "не выплачен          1741\n",
       "Name: debt_type, dtype: int64"
      ]
     },
     "execution_count": 807,
     "metadata": {},
     "output_type": "execute_result"
    }
   ],
   "source": [
    "def debt_type(debt):\n",
    "    if debt == 0:\n",
    "        return 'выплачен вовремя'\n",
    "    if debt == 1:\n",
    "        return 'не выплачен'\n",
    "\n",
    "# use apply() method to process column\n",
    "df['debt_type'] = df['debt'].apply(debt_type) \n",
    "\n",
    "# check the values\n",
    "df['debt_type'].value_counts()"
   ]
  },
  {
   "cell_type": "markdown",
   "metadata": {},
   "source": [
    "* **Eng translation**\n",
    "<p>paid on time      19713<br>\n",
    "defaulted     1741</p>"
   ]
  },
  {
   "cell_type": "markdown",
   "metadata": {},
   "source": [
    "Let's count the difference between \"paid on time\" and \"defaulted\" (%)"
   ]
  },
  {
   "cell_type": "code",
   "execution_count": 808,
   "metadata": {},
   "outputs": [
    {
     "name": "stdout",
     "output_type": "stream",
     "text": [
      "8.83 %\n"
     ]
    }
   ],
   "source": [
    "percentage = 1741 / 19713 * 100\n",
    "print(round(percentage,2),'%')"
   ]
  },
  {
   "cell_type": "markdown",
   "metadata": {},
   "source": [
    "We've made a more visual representation of debtors and on time paid. The difference between \"paid on time\" and \"defaulted\" is 8.83 %. So the most of the clients successfully  repay their loan on time."
   ]
  },
  {
   "cell_type": "markdown",
   "metadata": {},
   "source": [
    "#### Categorizing the data in 'education'"
   ]
  },
  {
   "cell_type": "code",
   "execution_count": 809,
   "metadata": {},
   "outputs": [
    {
     "data": {
      "text/plain": [
       "среднее                15172\n",
       "высшее                  5250\n",
       "неоконченное высшее      744\n",
       "начальное                282\n",
       "ученая степень             6\n",
       "Name: education, dtype: int64"
      ]
     },
     "execution_count": 809,
     "metadata": {},
     "output_type": "execute_result"
    }
   ],
   "source": [
    " # check the values\n",
    "df['education'].value_counts()"
   ]
  },
  {
   "cell_type": "markdown",
   "metadata": {},
   "source": [
    "* **Eng translation**\n",
    "<p>secondary education    15172<br>\n",
    "masters degree          5250<br>\n",
    "bachelor degree          744<br>\n",
    "primary education        282<br>\n",
    "academic degree            6</p>"
   ]
  },
  {
   "cell_type": "markdown",
   "metadata": {},
   "source": [
    "'secondary education' and 'masters degree' are the most popular groups"
   ]
  },
  {
   "cell_type": "markdown",
   "metadata": {},
   "source": [
    "If we stand back and look, the results of 'education' and 'education_id' represent the samme thing\n",
    "So we'll create dictionary for them, as we did for 'family_status_id'\n"
   ]
  },
  {
   "cell_type": "code",
   "execution_count": 810,
   "metadata": {},
   "outputs": [
    {
     "data": {
      "text/html": [
       "<div>\n",
       "<style scoped>\n",
       "    .dataframe tbody tr th:only-of-type {\n",
       "        vertical-align: middle;\n",
       "    }\n",
       "\n",
       "    .dataframe tbody tr th {\n",
       "        vertical-align: top;\n",
       "    }\n",
       "\n",
       "    .dataframe thead th {\n",
       "        text-align: right;\n",
       "    }\n",
       "</style>\n",
       "<table border=\"1\" class=\"dataframe\">\n",
       "  <thead>\n",
       "    <tr style=\"text-align: right;\">\n",
       "      <th></th>\n",
       "      <th>education</th>\n",
       "      <th>education_id</th>\n",
       "    </tr>\n",
       "  </thead>\n",
       "  <tbody>\n",
       "    <tr>\n",
       "      <th>0</th>\n",
       "      <td>высшее</td>\n",
       "      <td>0</td>\n",
       "    </tr>\n",
       "    <tr>\n",
       "      <th>1</th>\n",
       "      <td>среднее</td>\n",
       "      <td>1</td>\n",
       "    </tr>\n",
       "    <tr>\n",
       "      <th>2</th>\n",
       "      <td>неоконченное высшее</td>\n",
       "      <td>2</td>\n",
       "    </tr>\n",
       "    <tr>\n",
       "      <th>3</th>\n",
       "      <td>начальное</td>\n",
       "      <td>3</td>\n",
       "    </tr>\n",
       "    <tr>\n",
       "      <th>4</th>\n",
       "      <td>ученая степень</td>\n",
       "      <td>4</td>\n",
       "    </tr>\n",
       "  </tbody>\n",
       "</table>\n",
       "</div>"
      ],
      "text/plain": [
       "             education  education_id\n",
       "0               высшее             0\n",
       "1              среднее             1\n",
       "2  неоконченное высшее             2\n",
       "3            начальное             3\n",
       "4       ученая степень             4"
      ]
     },
     "metadata": {},
     "output_type": "display_data"
    }
   ],
   "source": [
    "# create the dictionary for 'education', 'education_id', drop duplicates\n",
    "education_dict = df[['education', 'education_id']].drop_duplicates().reset_index(drop=True)\n",
    "display(education_dict)"
   ]
  },
  {
   "cell_type": "markdown",
   "metadata": {},
   "source": [
    "* **Eng translation**\n",
    "<p>education\teducation_id<br>\n",
    "0\tmasters degree\t0<br>\n",
    "1\tsecondary education\t1<br>\n",
    "2\tbachelor degree\t2<br>\n",
    "3\tprimary education\t3<br>\n",
    "4\tacademic degree\t4</p>"
   ]
  },
  {
   "cell_type": "markdown",
   "metadata": {},
   "source": [
    "Now we can safely we can drop \"education_id\" column."
   ]
  },
  {
   "cell_type": "code",
   "execution_count": 811,
   "metadata": {},
   "outputs": [],
   "source": [
    "df.drop(columns=['education_id'],inplace=True)"
   ]
  },
  {
   "cell_type": "markdown",
   "metadata": {},
   "source": [
    "**Summary:** \n",
    "1. The most popular purpose for credit is for a real estate (10811 vs ~2000-4000 for other purposes)\n",
    "2.  Majority of bank clients who apply for credit are married (12339 vs 959-4000 in other categories) \n",
    "3. Majority of people pay their debt on time (19713 vs 1741)\n",
    "4. Most people who apply for the credit in the bank have the secondary education (15172 vs 5250 on masters degree and 6-700 on other types)"
   ]
  },
  {
   "cell_type": "markdown",
   "metadata": {},
   "source": [
    "## Step 3. Answer the questions"
   ]
  },
  {
   "cell_type": "markdown",
   "metadata": {},
   "source": [
    "**- Is there a relation between having kids and repaying a loan on time?**"
   ]
  },
  {
   "cell_type": "markdown",
   "metadata": {},
   "source": [
    "Make the pivot table for analysis the \"children\" column. \n",
    "\n",
    "**Note:** A reminder that we divided the'debt' data by 2 main categories: 'выплачен вовремя'(as for 'paid on time') and 'не выплачен' (as for 'defaulted')"
   ]
  },
  {
   "cell_type": "code",
   "execution_count": 812,
   "metadata": {},
   "outputs": [
    {
     "data": {
      "text/html": [
       "<div>\n",
       "<style scoped>\n",
       "    .dataframe tbody tr th:only-of-type {\n",
       "        vertical-align: middle;\n",
       "    }\n",
       "\n",
       "    .dataframe tbody tr th {\n",
       "        vertical-align: top;\n",
       "    }\n",
       "\n",
       "    .dataframe thead th {\n",
       "        text-align: right;\n",
       "    }\n",
       "</style>\n",
       "<table border=\"1\" class=\"dataframe\">\n",
       "  <thead>\n",
       "    <tr style=\"text-align: right;\">\n",
       "      <th>debt_type</th>\n",
       "      <th>выплачен вовремя</th>\n",
       "      <th>не выплачен</th>\n",
       "      <th>debt_type_ratio</th>\n",
       "    </tr>\n",
       "    <tr>\n",
       "      <th>children</th>\n",
       "      <th></th>\n",
       "      <th></th>\n",
       "      <th></th>\n",
       "    </tr>\n",
       "  </thead>\n",
       "  <tbody>\n",
       "    <tr>\n",
       "      <th>0</th>\n",
       "      <td>13074.0</td>\n",
       "      <td>1064.0</td>\n",
       "      <td>8.138290</td>\n",
       "    </tr>\n",
       "    <tr>\n",
       "      <th>3</th>\n",
       "      <td>303.0</td>\n",
       "      <td>27.0</td>\n",
       "      <td>8.910891</td>\n",
       "    </tr>\n",
       "    <tr>\n",
       "      <th>1</th>\n",
       "      <td>4364.0</td>\n",
       "      <td>444.0</td>\n",
       "      <td>10.174152</td>\n",
       "    </tr>\n",
       "    <tr>\n",
       "      <th>2</th>\n",
       "      <td>1926.0</td>\n",
       "      <td>202.0</td>\n",
       "      <td>10.488058</td>\n",
       "    </tr>\n",
       "    <tr>\n",
       "      <th>4</th>\n",
       "      <td>37.0</td>\n",
       "      <td>4.0</td>\n",
       "      <td>10.810811</td>\n",
       "    </tr>\n",
       "    <tr>\n",
       "      <th>5</th>\n",
       "      <td>9.0</td>\n",
       "      <td>NaN</td>\n",
       "      <td>NaN</td>\n",
       "    </tr>\n",
       "  </tbody>\n",
       "</table>\n",
       "</div>"
      ],
      "text/plain": [
       "debt_type  выплачен вовремя  не выплачен  debt_type_ratio\n",
       "children                                                 \n",
       "0                   13074.0       1064.0         8.138290\n",
       "3                     303.0         27.0         8.910891\n",
       "1                    4364.0        444.0        10.174152\n",
       "2                    1926.0        202.0        10.488058\n",
       "4                      37.0          4.0        10.810811\n",
       "5                       9.0          NaN              NaN"
      ]
     },
     "execution_count": 812,
     "metadata": {},
     "output_type": "execute_result"
    }
   ],
   "source": [
    "# create the pivot table \n",
    "credit_child = df.pivot_table(index=['children'], columns='debt_type', values='debt', aggfunc='count')\n",
    "# count the ratio defaulted / on time\n",
    "credit_child['debt_type_ratio'] = credit_child['не выплачен'] / credit_child['выплачен вовремя'] * 100\n",
    "# sort by \"debt_type_ratio\"\n",
    "credit_child.sort_values(by='debt_type_ratio', ascending=True)"
   ]
  },
  {
   "cell_type": "code",
   "execution_count": 813,
   "metadata": {},
   "outputs": [
    {
     "name": "stdout",
     "output_type": "stream",
     "text": [
      "2.67 %\n"
     ]
    }
   ],
   "source": [
    "# counting the difference\n",
    "dif_per_children = credit_child['debt_type_ratio'].max() - credit_child['debt_type_ratio'].min()\n",
    "print(round(dif_per_children,2),'%')"
   ]
  },
  {
   "cell_type": "markdown",
   "metadata": {},
   "source": [
    "As we can see, ratio in 'debt_type_ratio' not that significant (only 2.67 %).\n",
    "\n",
    "Divide people into two groups with and without children.\n",
    "\n",
    "Сheck borrowers, who have children. And see how many people paid the loan on time."
   ]
  },
  {
   "cell_type": "code",
   "execution_count": 814,
   "metadata": {},
   "outputs": [
    {
     "name": "stdout",
     "output_type": "stream",
     "text": [
      "выплачен вовремя    0.91\n",
      "не выплачен         0.09\n",
      "Name: debt_type, dtype: float64\n"
     ]
    }
   ],
   "source": [
    "debtor_parent = df[df['children'] > 0]['debt_type'].value_counts(normalize=True) # use value_counts() method\n",
    "print(round(debtor_parent,2))"
   ]
  },
  {
   "cell_type": "markdown",
   "metadata": {},
   "source": [
    "* **Eng translation**<br>\n",
    "paid on time      0.91<br>\n",
    "defaulted    0.09<br>"
   ]
  },
  {
   "cell_type": "markdown",
   "metadata": {},
   "source": [
    "91 % of people with children repaid the loan on time.\n",
    "\n",
    "Сheck borrowers who don't have children. And see how many people paid the loan on time."
   ]
  },
  {
   "cell_type": "code",
   "execution_count": 815,
   "metadata": {},
   "outputs": [
    {
     "name": "stdout",
     "output_type": "stream",
     "text": [
      "выплачен вовремя    0.92\n",
      "не выплачен         0.08\n",
      "Name: debt_type, dtype: float64\n"
     ]
    }
   ],
   "source": [
    "debtor_childfree = df[df['children'] < 1]['debt_type'].value_counts(normalize=True) # use value_counts() method\n",
    "print(round(debtor_childfree,2))"
   ]
  },
  {
   "cell_type": "markdown",
   "metadata": {},
   "source": [
    "* **Eng translation**<br>\n",
    "paid on time      0.92<br>\n",
    "defaulted    0.08<br>"
   ]
  },
  {
   "cell_type": "markdown",
   "metadata": {},
   "source": [
    "92% of people without children repaid the loan on time.\n",
    "\n",
    "Count the difference:"
   ]
  },
  {
   "cell_type": "code",
   "execution_count": 816,
   "metadata": {},
   "outputs": [
    {
     "name": "stdout",
     "output_type": "stream",
     "text": [
      "1.73 %\n"
     ]
    }
   ],
   "source": [
    "dif_per_child = (debtor_childfree.loc['выплачен вовремя'] - debtor_parent.loc['выплачен вовремя']) * 100\n",
    "print(round(dif_per_child,2),'%')"
   ]
  },
  {
   "cell_type": "markdown",
   "metadata": {},
   "source": [
    "**Conclusion**"
   ]
  },
  {
   "cell_type": "markdown",
   "metadata": {},
   "source": [
    "The difference between borrowers who have children and who haven't is only 1.73%. It is safe to assume it's not a signifficant value to take it into account. So there is not a (significant) relation between having children and repaying a loan on time."
   ]
  },
  {
   "cell_type": "markdown",
   "metadata": {},
   "source": [
    "**- Is there a relation between marital status and repaying a loan on time?**"
   ]
  },
  {
   "cell_type": "code",
   "execution_count": 817,
   "metadata": {},
   "outputs": [
    {
     "data": {
      "text/plain": [
       "женат / замужем          12339\n",
       "гражданский брак          4151\n",
       "Не женат / не замужем     2810\n",
       "в разводе                 1195\n",
       "вдовец / вдова             959\n",
       "Name: family_status, dtype: int64"
      ]
     },
     "execution_count": 817,
     "metadata": {},
     "output_type": "execute_result"
    }
   ],
   "source": [
    "# check the values \n",
    "df['family_status'].value_counts()"
   ]
  },
  {
   "cell_type": "markdown",
   "metadata": {},
   "source": [
    "* **Eng translation**\n",
    "<p>family_status\tfamily_status_id<br>\n",
    "0\tmarried\t12339<br>\n",
    "1\tcivil partnership\t4151<br>\n",
    "2\twidow / widower\t2810<br>\n",
    "3\tdivorced\t1195<br>\n",
    "4\tunmarried\t959</p>"
   ]
  },
  {
   "cell_type": "code",
   "execution_count": 818,
   "metadata": {},
   "outputs": [
    {
     "data": {
      "text/html": [
       "<div>\n",
       "<style scoped>\n",
       "    .dataframe tbody tr th:only-of-type {\n",
       "        vertical-align: middle;\n",
       "    }\n",
       "\n",
       "    .dataframe tbody tr th {\n",
       "        vertical-align: top;\n",
       "    }\n",
       "\n",
       "    .dataframe thead th {\n",
       "        text-align: right;\n",
       "    }\n",
       "</style>\n",
       "<table border=\"1\" class=\"dataframe\">\n",
       "  <thead>\n",
       "    <tr style=\"text-align: right;\">\n",
       "      <th>debt_type</th>\n",
       "      <th>выплачен вовремя</th>\n",
       "      <th>не выплачен</th>\n",
       "      <th>debt_type_ratio</th>\n",
       "    </tr>\n",
       "    <tr>\n",
       "      <th>family_status</th>\n",
       "      <th></th>\n",
       "      <th></th>\n",
       "      <th></th>\n",
       "    </tr>\n",
       "  </thead>\n",
       "  <tbody>\n",
       "    <tr>\n",
       "      <th>вдовец / вдова</th>\n",
       "      <td>896</td>\n",
       "      <td>63</td>\n",
       "      <td>7.031250</td>\n",
       "    </tr>\n",
       "    <tr>\n",
       "      <th>в разводе</th>\n",
       "      <td>1110</td>\n",
       "      <td>85</td>\n",
       "      <td>7.657658</td>\n",
       "    </tr>\n",
       "    <tr>\n",
       "      <th>женат / замужем</th>\n",
       "      <td>11408</td>\n",
       "      <td>931</td>\n",
       "      <td>8.160940</td>\n",
       "    </tr>\n",
       "    <tr>\n",
       "      <th>гражданский брак</th>\n",
       "      <td>3763</td>\n",
       "      <td>388</td>\n",
       "      <td>10.310922</td>\n",
       "    </tr>\n",
       "    <tr>\n",
       "      <th>Не женат / не замужем</th>\n",
       "      <td>2536</td>\n",
       "      <td>274</td>\n",
       "      <td>10.804416</td>\n",
       "    </tr>\n",
       "  </tbody>\n",
       "</table>\n",
       "</div>"
      ],
      "text/plain": [
       "debt_type              выплачен вовремя  не выплачен  debt_type_ratio\n",
       "family_status                                                        \n",
       "вдовец / вдова                      896           63         7.031250\n",
       "в разводе                          1110           85         7.657658\n",
       "женат / замужем                   11408          931         8.160940\n",
       "гражданский брак                   3763          388        10.310922\n",
       "Не женат / не замужем              2536          274        10.804416"
      ]
     },
     "execution_count": 818,
     "metadata": {},
     "output_type": "execute_result"
    }
   ],
   "source": [
    "# create the pivot table \n",
    "credit_family = df.pivot_table(index=['family_status'], columns='debt_type', values='debt', aggfunc='count')\n",
    "# count the ratio defaulted / on time\n",
    "credit_family['debt_type_ratio'] = credit_family['не выплачен'] / credit_family['выплачен вовремя'] * 100\n",
    "# sort by 'debt_type_ratio'\n",
    "credit_family.sort_values(by='debt_type_ratio', ascending=True)"
   ]
  },
  {
   "cell_type": "code",
   "execution_count": 819,
   "metadata": {},
   "outputs": [
    {
     "name": "stdout",
     "output_type": "stream",
     "text": [
      "3.77 %\n"
     ]
    }
   ],
   "source": [
    "dif_per_family = credit_family['debt_type_ratio'].max() - credit_family['debt_type_ratio'].min()\n",
    "print(round(dif_per_family,2),'%')"
   ]
  },
  {
   "cell_type": "markdown",
   "metadata": {},
   "source": [
    "**Conclusion**"
   ]
  },
  {
   "cell_type": "markdown",
   "metadata": {},
   "source": [
    "The difference between borrowers who are maried and who are not is only 3.77%. It is safe to assume it's not a signifficant value to take it into account. So there is not a (significant) relation between having children and repaying a loan on time."
   ]
  },
  {
   "cell_type": "markdown",
   "metadata": {},
   "source": [
    "**- Is there a relation between income level and repaying a loan on time?**"
   ]
  },
  {
   "cell_type": "markdown",
   "metadata": {},
   "source": [
    "Make the pivot table for analysis the 'income_level' colunm:"
   ]
  },
  {
   "cell_type": "code",
   "execution_count": 820,
   "metadata": {},
   "outputs": [
    {
     "data": {
      "text/html": [
       "<div>\n",
       "<style scoped>\n",
       "    .dataframe tbody tr th:only-of-type {\n",
       "        vertical-align: middle;\n",
       "    }\n",
       "\n",
       "    .dataframe tbody tr th {\n",
       "        vertical-align: top;\n",
       "    }\n",
       "\n",
       "    .dataframe thead th {\n",
       "        text-align: right;\n",
       "    }\n",
       "</style>\n",
       "<table border=\"1\" class=\"dataframe\">\n",
       "  <thead>\n",
       "    <tr style=\"text-align: right;\">\n",
       "      <th>debt_type</th>\n",
       "      <th>выплачен вовремя</th>\n",
       "      <th>не выплачен</th>\n",
       "      <th>debt_type_ratio</th>\n",
       "    </tr>\n",
       "    <tr>\n",
       "      <th>income_level</th>\n",
       "      <th></th>\n",
       "      <th></th>\n",
       "      <th></th>\n",
       "    </tr>\n",
       "  </thead>\n",
       "  <tbody>\n",
       "    <tr>\n",
       "      <th>высокий</th>\n",
       "      <td>4564</td>\n",
       "      <td>345</td>\n",
       "      <td>7.559159</td>\n",
       "    </tr>\n",
       "    <tr>\n",
       "      <th>низкий</th>\n",
       "      <td>4941</td>\n",
       "      <td>427</td>\n",
       "      <td>8.641975</td>\n",
       "    </tr>\n",
       "    <tr>\n",
       "      <th>выше среднего</th>\n",
       "      <td>4214</td>\n",
       "      <td>389</td>\n",
       "      <td>9.231134</td>\n",
       "    </tr>\n",
       "    <tr>\n",
       "      <th>средний</th>\n",
       "      <td>5994</td>\n",
       "      <td>580</td>\n",
       "      <td>9.676343</td>\n",
       "    </tr>\n",
       "  </tbody>\n",
       "</table>\n",
       "</div>"
      ],
      "text/plain": [
       "debt_type      выплачен вовремя  не выплачен  debt_type_ratio\n",
       "income_level                                                 \n",
       "высокий                    4564          345         7.559159\n",
       "низкий                     4941          427         8.641975\n",
       "выше среднего              4214          389         9.231134\n",
       "средний                    5994          580         9.676343"
      ]
     },
     "execution_count": 820,
     "metadata": {},
     "output_type": "execute_result"
    }
   ],
   "source": [
    "# create the pivot table \n",
    "credit_income = df.pivot_table(index=['income_level'], columns='debt_type', values='debt', aggfunc='count')\n",
    "# count the ratio defaulted / on time\n",
    "credit_income['debt_type_ratio'] = credit_income['не выплачен'] / credit_income['выплачен вовремя'] * 100\n",
    "# sort by \"debt_type_ratio\"\n",
    "credit_income.sort_values(by='debt_type_ratio', ascending=True)\n",
    "\n"
   ]
  },
  {
   "cell_type": "markdown",
   "metadata": {},
   "source": [
    "Count the difference"
   ]
  },
  {
   "cell_type": "code",
   "execution_count": 821,
   "metadata": {},
   "outputs": [
    {
     "name": "stdout",
     "output_type": "stream",
     "text": [
      "2.12 %\n"
     ]
    }
   ],
   "source": [
    "dif_per_income = credit_income['debt_type_ratio'].max() - credit_income['debt_type_ratio'].min()\n",
    "print(round(dif_per_income,2),'%')"
   ]
  },
  {
   "cell_type": "markdown",
   "metadata": {},
   "source": [
    "**Сonclusion**\n",
    "\n",
    "There's no signifficant difference in 'dif_type_ratio' (oly 2.16 %). So there is no (significant) relation between income level and repaying a loan on time"
   ]
  },
  {
   "cell_type": "markdown",
   "metadata": {},
   "source": [
    "**- How do different loan purposes affect on-time repayment of the loan?**"
   ]
  },
  {
   "cell_type": "code",
   "execution_count": 822,
   "metadata": {},
   "outputs": [
    {
     "data": {
      "text/html": [
       "<div>\n",
       "<style scoped>\n",
       "    .dataframe tbody tr th:only-of-type {\n",
       "        vertical-align: middle;\n",
       "    }\n",
       "\n",
       "    .dataframe tbody tr th {\n",
       "        vertical-align: top;\n",
       "    }\n",
       "\n",
       "    .dataframe thead th {\n",
       "        text-align: right;\n",
       "    }\n",
       "</style>\n",
       "<table border=\"1\" class=\"dataframe\">\n",
       "  <thead>\n",
       "    <tr style=\"text-align: right;\">\n",
       "      <th>debt_type</th>\n",
       "      <th>выплачен вовремя</th>\n",
       "      <th>не выплачен</th>\n",
       "      <th>debt_type_ratio</th>\n",
       "    </tr>\n",
       "    <tr>\n",
       "      <th>purpose</th>\n",
       "      <th></th>\n",
       "      <th></th>\n",
       "      <th></th>\n",
       "    </tr>\n",
       "  </thead>\n",
       "  <tbody>\n",
       "    <tr>\n",
       "      <th>недвижимость</th>\n",
       "      <td>10029</td>\n",
       "      <td>782</td>\n",
       "      <td>7.797388</td>\n",
       "    </tr>\n",
       "    <tr>\n",
       "      <th>свадьба</th>\n",
       "      <td>2138</td>\n",
       "      <td>186</td>\n",
       "      <td>8.699719</td>\n",
       "    </tr>\n",
       "    <tr>\n",
       "      <th>образование</th>\n",
       "      <td>3643</td>\n",
       "      <td>370</td>\n",
       "      <td>10.156464</td>\n",
       "    </tr>\n",
       "    <tr>\n",
       "      <th>автомобиль</th>\n",
       "      <td>3470</td>\n",
       "      <td>359</td>\n",
       "      <td>10.345821</td>\n",
       "    </tr>\n",
       "  </tbody>\n",
       "</table>\n",
       "</div>"
      ],
      "text/plain": [
       "debt_type     выплачен вовремя  не выплачен  debt_type_ratio\n",
       "purpose                                                     \n",
       "недвижимость             10029          782         7.797388\n",
       "свадьба                   2138          186         8.699719\n",
       "образование               3643          370        10.156464\n",
       "автомобиль                3470          359        10.345821"
      ]
     },
     "execution_count": 822,
     "metadata": {},
     "output_type": "execute_result"
    }
   ],
   "source": [
    "# create another the pivot table \n",
    "credit_purpose = df.pivot_table(index=['purpose'], columns='debt_type', values='debt', aggfunc='count')\n",
    "# count the ratio defaulted / on time\n",
    "credit_purpose['debt_type_ratio'] = credit_purpose['не выплачен'] / credit_purpose['выплачен вовремя'] * 100\n",
    "# sort by \"debt_type_ratio\"\n",
    "credit_purpose.sort_values(by='debt_type_ratio', ascending=True)"
   ]
  },
  {
   "cell_type": "markdown",
   "metadata": {},
   "source": [
    "Count the difference"
   ]
  },
  {
   "cell_type": "code",
   "execution_count": 823,
   "metadata": {},
   "outputs": [
    {
     "name": "stdout",
     "output_type": "stream",
     "text": [
      "2.55 %\n"
     ]
    }
   ],
   "source": [
    "dif_per_purpose = credit_purpose['debt_type_ratio'].max() - credit_purpose['debt_type_ratio'].min()\n",
    "print(round(dif_per_purpose,2),'%')"
   ]
  },
  {
   "cell_type": "markdown",
   "metadata": {},
   "source": [
    "**Conclusion**\n",
    "\n",
    "As we see, ratio in 'debt_type_purpose' not that signifficant (2.52 %). So loan purposes doesn't affect on-time repayment of the loan either."
   ]
  },
  {
   "cell_type": "markdown",
   "metadata": {},
   "source": [
    "## Step 4. General conclusion"
   ]
  },
  {
   "cell_type": "markdown",
   "metadata": {},
   "source": [
    "In the process of analyzing the data, we did the following:\n",
    "\n",
    "1. In Step 1 we got familiar with the provided dataset and set the plan for processing the data to analyze it later\n",
    "\n",
    "2. In step 2 we filled all the missing values appropriately and got rid of the duplicates. Additionally, we used stemming method to process categorical data types. Then we moved on and categorized  the data where appropriate to beging analyzing data.\n",
    "\n",
    "3. In step 3 we deeply analyzed the data and answered the questions that were interesting to the client (the Bank X)\n",
    "\n",
    "***Summary***: Our main goal was to find out whether the customer’s marital status and number of children has an impact on them defaulting on a loan\n",
    "\n",
    "*In conclusion*, we can say that customer’s marital status and number of children hasn't an impact on whether they will default on a loan. The difference between the 'defaulted' and 'paid on time' values isn't significant. And doesn't exceed 3.77% for marital status and 1.73% for the number of children.\n",
    "\n",
    "And we do not see the connection between income, loan purposes and repayment of the loan on time.\n",
    "\n",
    "Therefore, we can give loans more often not only to married, but also to other groups. And also to people with children. We need to look for ways to increase the return on credit in other categories.\n",
    "\n",
    "**Recommendations**: \n",
    "1) Request for the correct data format in the 'days_employed' column and convert the data to the appropriate form\n",
    "\n",
    "2) Deeper analysis of the data is required. There are many other factors that will help answer the question of whether the number of children or marital status affect the borrower's risk of defaulting. Specifically, it would be useful to add a few more detailed questions to the survey, e.g.: \n",
    "* Are there people with a disabilities/severe illnesses in the family?\n",
    "* Are there any other debts in other banks/sources? \n",
    "* What are the average expenses per child in the family per month? etc."
   ]
  }
 ],
 "metadata": {
  "ExecuteTimeLog": [
   {
    "duration": 586,
    "start_time": "2021-09-14T18:37:12.421Z"
   },
   {
    "duration": 70,
    "start_time": "2021-09-14T18:42:48.297Z"
   },
   {
    "duration": 61,
    "start_time": "2021-09-14T18:43:29.225Z"
   },
   {
    "duration": 287,
    "start_time": "2021-09-15T08:20:18.361Z"
   },
   {
    "duration": 600,
    "start_time": "2021-09-15T08:21:01.839Z"
   },
   {
    "duration": 92,
    "start_time": "2021-09-15T08:21:06.906Z"
   },
   {
    "duration": 4,
    "start_time": "2021-09-15T08:21:11.376Z"
   },
   {
    "duration": 3,
    "start_time": "2021-09-15T08:21:16.753Z"
   },
   {
    "duration": 7,
    "start_time": "2021-09-15T08:22:17.468Z"
   },
   {
    "duration": 8,
    "start_time": "2021-09-15T08:22:35.092Z"
   },
   {
    "duration": 7,
    "start_time": "2021-09-15T08:25:57.171Z"
   },
   {
    "duration": 7,
    "start_time": "2021-09-15T08:26:04.319Z"
   },
   {
    "duration": 7,
    "start_time": "2021-09-15T08:26:45.115Z"
   },
   {
    "duration": 664,
    "start_time": "2021-09-15T08:42:11.630Z"
   },
   {
    "duration": 6,
    "start_time": "2021-09-15T08:42:36.313Z"
   },
   {
    "duration": 534,
    "start_time": "2021-09-15T08:57:08.720Z"
   },
   {
    "duration": 414,
    "start_time": "2021-09-15T10:07:49.940Z"
   },
   {
    "duration": 437,
    "start_time": "2021-09-15T10:08:08.957Z"
   },
   {
    "duration": 406,
    "start_time": "2021-09-15T10:08:26.498Z"
   },
   {
    "duration": 411,
    "start_time": "2021-09-15T10:09:50.457Z"
   },
   {
    "duration": 470,
    "start_time": "2021-09-15T10:12:20.555Z"
   },
   {
    "duration": 770,
    "start_time": "2021-09-15T10:14:36.747Z"
   },
   {
    "duration": 316,
    "start_time": "2021-09-15T10:14:48.697Z"
   },
   {
    "duration": 344,
    "start_time": "2021-09-15T10:14:51.556Z"
   },
   {
    "duration": 238,
    "start_time": "2021-09-15T10:16:11.629Z"
   },
   {
    "duration": 273,
    "start_time": "2021-09-15T10:16:39.232Z"
   },
   {
    "duration": 259,
    "start_time": "2021-09-15T10:18:38.479Z"
   },
   {
    "duration": 234,
    "start_time": "2021-09-15T10:19:58.728Z"
   },
   {
    "duration": 331,
    "start_time": "2021-09-15T10:20:28.913Z"
   },
   {
    "duration": 667,
    "start_time": "2021-09-15T10:21:58.429Z"
   },
   {
    "duration": 711,
    "start_time": "2021-09-15T10:22:09.020Z"
   },
   {
    "duration": 813,
    "start_time": "2021-09-15T10:22:49.456Z"
   },
   {
    "duration": 472,
    "start_time": "2021-09-15T10:33:09.280Z"
   },
   {
    "duration": 279,
    "start_time": "2021-09-15T10:33:29.912Z"
   },
   {
    "duration": 255,
    "start_time": "2021-09-15T10:33:52.731Z"
   },
   {
    "duration": 251,
    "start_time": "2021-09-15T10:37:23.002Z"
   },
   {
    "duration": 250,
    "start_time": "2021-09-15T10:37:48.105Z"
   },
   {
    "duration": 60,
    "start_time": "2021-09-15T10:37:59.018Z"
   },
   {
    "duration": 332,
    "start_time": "2021-09-15T10:38:02.633Z"
   },
   {
    "duration": 240,
    "start_time": "2021-09-15T10:39:21.197Z"
   },
   {
    "duration": 59,
    "start_time": "2021-09-15T10:39:26.809Z"
   },
   {
    "duration": 530,
    "start_time": "2021-09-15T10:39:30.456Z"
   },
   {
    "duration": 84,
    "start_time": "2021-09-15T10:41:11.755Z"
   },
   {
    "duration": 536,
    "start_time": "2021-09-15T10:41:11.841Z"
   },
   {
    "duration": 84,
    "start_time": "2021-09-15T10:42:04.779Z"
   },
   {
    "duration": 522,
    "start_time": "2021-09-15T10:42:08.249Z"
   },
   {
    "duration": 84,
    "start_time": "2021-09-15T10:42:33.860Z"
   },
   {
    "duration": 532,
    "start_time": "2021-09-15T10:42:40.312Z"
   },
   {
    "duration": 83,
    "start_time": "2021-09-15T10:43:04.345Z"
   },
   {
    "duration": 245,
    "start_time": "2021-09-15T10:43:07.912Z"
   },
   {
    "duration": 459,
    "start_time": "2021-09-15T10:43:32.842Z"
   },
   {
    "duration": 60,
    "start_time": "2021-09-15T13:31:57.442Z"
   },
   {
    "duration": 249,
    "start_time": "2021-09-15T13:32:02.110Z"
   },
   {
    "duration": 62,
    "start_time": "2021-09-15T13:32:16.195Z"
   },
   {
    "duration": 17,
    "start_time": "2021-09-15T13:32:19.986Z"
   },
   {
    "duration": 14,
    "start_time": "2021-09-15T13:39:12.045Z"
   },
   {
    "duration": 14,
    "start_time": "2021-09-15T13:40:01.929Z"
   },
   {
    "duration": 58,
    "start_time": "2021-09-15T13:44:57.567Z"
   },
   {
    "duration": 88,
    "start_time": "2021-09-15T13:45:01.801Z"
   },
   {
    "duration": 86,
    "start_time": "2021-09-15T13:45:33.919Z"
   },
   {
    "duration": 82,
    "start_time": "2021-09-15T13:45:39.994Z"
   },
   {
    "duration": 62,
    "start_time": "2021-09-15T13:45:46.449Z"
   },
   {
    "duration": 97,
    "start_time": "2021-09-15T13:45:50.337Z"
   },
   {
    "duration": 85,
    "start_time": "2021-09-15T13:46:51.018Z"
   },
   {
    "duration": 59,
    "start_time": "2021-09-15T13:48:07.133Z"
   },
   {
    "duration": 92,
    "start_time": "2021-09-15T13:48:11.610Z"
   },
   {
    "duration": 58,
    "start_time": "2021-09-15T13:48:56.762Z"
   },
   {
    "duration": 64,
    "start_time": "2021-09-15T13:49:14.081Z"
   },
   {
    "duration": 240,
    "start_time": "2021-09-15T13:49:17.286Z"
   },
   {
    "duration": 60,
    "start_time": "2021-09-15T13:50:07.993Z"
   },
   {
    "duration": 236,
    "start_time": "2021-09-15T13:50:11.696Z"
   },
   {
    "duration": 61,
    "start_time": "2021-09-15T13:56:58.463Z"
   },
   {
    "duration": 220,
    "start_time": "2021-09-15T13:57:02.420Z"
   },
   {
    "duration": 59,
    "start_time": "2021-09-15T14:03:24.599Z"
   },
   {
    "duration": 17,
    "start_time": "2021-09-15T14:03:28.481Z"
   },
   {
    "duration": 59,
    "start_time": "2021-09-15T14:03:54.869Z"
   },
   {
    "duration": 18,
    "start_time": "2021-09-15T14:04:03.301Z"
   },
   {
    "duration": 61,
    "start_time": "2021-09-15T14:05:00.282Z"
   },
   {
    "duration": 18,
    "start_time": "2021-09-15T14:05:04.537Z"
   },
   {
    "duration": 61,
    "start_time": "2021-09-15T14:06:30.889Z"
   },
   {
    "duration": 442,
    "start_time": "2021-09-15T14:06:35.900Z"
   },
   {
    "duration": 58,
    "start_time": "2021-09-15T14:06:55.918Z"
   },
   {
    "duration": 21,
    "start_time": "2021-09-15T14:07:01.271Z"
   },
   {
    "duration": 60,
    "start_time": "2021-09-15T14:07:40.904Z"
   },
   {
    "duration": 19,
    "start_time": "2021-09-15T14:07:45.087Z"
   },
   {
    "duration": 60,
    "start_time": "2021-09-15T14:10:05.131Z"
   },
   {
    "duration": 23,
    "start_time": "2021-09-15T14:10:09.916Z"
   },
   {
    "duration": 58,
    "start_time": "2021-09-15T14:22:26.758Z"
   },
   {
    "duration": 360,
    "start_time": "2021-09-15T14:22:30.212Z"
   },
   {
    "duration": 333,
    "start_time": "2021-09-15T14:22:40.029Z"
   },
   {
    "duration": 62,
    "start_time": "2021-09-15T14:23:53.813Z"
   },
   {
    "duration": 320,
    "start_time": "2021-09-15T14:24:14.040Z"
   },
   {
    "duration": 58,
    "start_time": "2021-09-15T14:24:39.596Z"
   },
   {
    "duration": 58,
    "start_time": "2021-09-15T14:25:17.895Z"
   },
   {
    "duration": 100,
    "start_time": "2021-09-15T14:30:21.770Z"
   },
   {
    "duration": 116,
    "start_time": "2021-09-15T14:30:21.873Z"
   },
   {
    "duration": 65,
    "start_time": "2021-09-15T14:30:41.063Z"
   },
   {
    "duration": 334,
    "start_time": "2021-09-15T14:30:44.911Z"
   },
   {
    "duration": 41,
    "start_time": "2021-09-15T14:32:40.858Z"
   },
   {
    "duration": 29,
    "start_time": "2021-09-15T14:33:44.439Z"
   },
   {
    "duration": 61,
    "start_time": "2021-09-15T14:33:55.347Z"
   },
   {
    "duration": 29,
    "start_time": "2021-09-15T14:34:04.258Z"
   },
   {
    "duration": 48,
    "start_time": "2021-09-15T14:35:15.624Z"
   },
   {
    "duration": 23,
    "start_time": "2021-09-15T14:35:19.205Z"
   },
   {
    "duration": 44,
    "start_time": "2021-09-15T14:40:51.878Z"
   },
   {
    "duration": 377,
    "start_time": "2021-09-15T14:40:55.813Z"
   },
   {
    "duration": 46,
    "start_time": "2021-09-15T14:41:29.740Z"
   },
   {
    "duration": 71,
    "start_time": "2021-09-15T14:42:06.881Z"
   },
   {
    "duration": 45,
    "start_time": "2021-09-15T14:43:38.301Z"
   },
   {
    "duration": 283,
    "start_time": "2021-09-15T14:43:41.607Z"
   },
   {
    "duration": 47,
    "start_time": "2021-09-15T14:44:13.114Z"
   },
   {
    "duration": 334,
    "start_time": "2021-09-15T14:44:16.739Z"
   },
   {
    "duration": 46,
    "start_time": "2021-09-15T14:55:15.340Z"
   },
   {
    "duration": 29,
    "start_time": "2021-09-15T14:55:18.751Z"
   },
   {
    "duration": 46,
    "start_time": "2021-09-15T14:55:45.126Z"
   },
   {
    "duration": 30,
    "start_time": "2021-09-15T14:55:48.394Z"
   },
   {
    "duration": 47,
    "start_time": "2021-09-15T14:56:30.017Z"
   },
   {
    "duration": 29,
    "start_time": "2021-09-15T14:56:33.607Z"
   },
   {
    "duration": 44,
    "start_time": "2021-09-15T14:57:17.222Z"
   },
   {
    "duration": 26,
    "start_time": "2021-09-15T14:57:20.597Z"
   },
   {
    "duration": 14,
    "start_time": "2021-09-15T14:58:52.747Z"
   },
   {
    "duration": 13,
    "start_time": "2021-09-15T14:58:57.945Z"
   },
   {
    "duration": 46,
    "start_time": "2021-09-15T14:59:05.477Z"
   },
   {
    "duration": 47,
    "start_time": "2021-09-15T14:59:16.240Z"
   },
   {
    "duration": 14,
    "start_time": "2021-09-15T14:59:16.289Z"
   },
   {
    "duration": 63,
    "start_time": "2021-09-15T14:59:34.250Z"
   },
   {
    "duration": 20,
    "start_time": "2021-09-15T14:59:34.315Z"
   },
   {
    "duration": 46,
    "start_time": "2021-09-15T15:00:34.982Z"
   },
   {
    "duration": 13,
    "start_time": "2021-09-15T15:00:39.207Z"
   },
   {
    "duration": 264,
    "start_time": "2021-09-15T21:21:42.646Z"
   },
   {
    "duration": 8632,
    "start_time": "2021-09-15T21:21:48.661Z"
   },
   {
    "duration": -266,
    "start_time": "2021-09-15T21:21:57.561Z"
   },
   {
    "duration": 12,
    "start_time": "2021-09-15T21:21:57.786Z"
   },
   {
    "duration": 52,
    "start_time": "2021-09-15T21:22:11.262Z"
   },
   {
    "duration": 14,
    "start_time": "2021-09-15T21:22:11.316Z"
   },
   {
    "duration": -6285,
    "start_time": "2021-09-15T21:22:25.236Z"
   },
   {
    "duration": 7070,
    "start_time": "2021-09-15T21:22:48.461Z"
   },
   {
    "duration": -591,
    "start_time": "2021-09-15T21:22:56.124Z"
   },
   {
    "duration": 13,
    "start_time": "2021-09-15T21:22:57.098Z"
   },
   {
    "duration": 12,
    "start_time": "2021-09-15T21:23:26.972Z"
   },
   {
    "duration": 13,
    "start_time": "2021-09-15T21:24:24.174Z"
   },
   {
    "duration": 10,
    "start_time": "2021-09-15T21:25:01.191Z"
   },
   {
    "duration": 14,
    "start_time": "2021-09-15T21:51:08.805Z"
   },
   {
    "duration": 13,
    "start_time": "2021-09-15T21:52:04.715Z"
   },
   {
    "duration": 298,
    "start_time": "2021-09-15T21:53:26.367Z"
   },
   {
    "duration": 24,
    "start_time": "2021-09-15T21:53:43.715Z"
   },
   {
    "duration": 26,
    "start_time": "2021-09-15T21:54:27.174Z"
   },
   {
    "duration": 30,
    "start_time": "2021-09-15T21:55:16.287Z"
   },
   {
    "duration": 17,
    "start_time": "2021-09-15T21:55:32.611Z"
   },
   {
    "duration": 19,
    "start_time": "2021-09-15T21:56:03.341Z"
   },
   {
    "duration": 31,
    "start_time": "2021-09-15T21:58:28.195Z"
   },
   {
    "duration": 25,
    "start_time": "2021-09-15T21:58:47.298Z"
   },
   {
    "duration": 317,
    "start_time": "2021-09-15T21:58:56.959Z"
   },
   {
    "duration": 335,
    "start_time": "2021-09-15T21:59:25.784Z"
   },
   {
    "duration": 27,
    "start_time": "2021-09-15T21:59:58.302Z"
   },
   {
    "duration": 43,
    "start_time": "2021-09-15T22:02:44.638Z"
   },
   {
    "duration": 10,
    "start_time": "2021-09-15T22:57:40.283Z"
   },
   {
    "duration": 3,
    "start_time": "2021-09-15T22:57:57.808Z"
   },
   {
    "duration": 6,
    "start_time": "2021-09-15T23:00:35.293Z"
   },
   {
    "duration": 2027,
    "start_time": "2021-09-15T23:18:39.458Z"
   },
   {
    "duration": 87,
    "start_time": "2021-09-15T23:20:06.460Z"
   },
   {
    "duration": 108,
    "start_time": "2021-09-15T23:21:04.946Z"
   },
   {
    "duration": 508,
    "start_time": "2021-09-15T23:21:25.710Z"
   },
   {
    "duration": 495,
    "start_time": "2021-09-15T23:21:50.495Z"
   },
   {
    "duration": 529,
    "start_time": "2021-09-16T09:06:31.829Z"
   },
   {
    "duration": 399,
    "start_time": "2021-09-16T09:07:50.208Z"
   },
   {
    "duration": 365,
    "start_time": "2021-09-16T09:07:58.575Z"
   },
   {
    "duration": 772,
    "start_time": "2021-09-16T09:08:11.829Z"
   },
   {
    "duration": 15,
    "start_time": "2021-09-16T09:08:14.948Z"
   },
   {
    "duration": 5,
    "start_time": "2021-09-16T09:08:18.922Z"
   },
   {
    "duration": 63,
    "start_time": "2021-09-16T09:08:22.887Z"
   },
   {
    "duration": 983,
    "start_time": "2021-09-16T09:08:26.503Z"
   },
   {
    "duration": 657,
    "start_time": "2021-09-16T09:08:36.960Z"
   },
   {
    "duration": 973,
    "start_time": "2021-09-16T09:09:11.121Z"
   },
   {
    "duration": 664,
    "start_time": "2021-09-16T09:09:37.240Z"
   },
   {
    "duration": 638,
    "start_time": "2021-09-16T09:09:51.246Z"
   },
   {
    "duration": 1052,
    "start_time": "2021-09-16T09:10:25.473Z"
   },
   {
    "duration": 650,
    "start_time": "2021-09-16T09:13:08.553Z"
   },
   {
    "duration": 664,
    "start_time": "2021-09-16T09:13:18.502Z"
   },
   {
    "duration": 677,
    "start_time": "2021-09-16T09:14:40.479Z"
   },
   {
    "duration": 671,
    "start_time": "2021-09-16T09:15:49.708Z"
   },
   {
    "duration": 1347,
    "start_time": "2021-09-16T09:56:55.991Z"
   },
   {
    "duration": 1175,
    "start_time": "2021-09-16T09:57:28.842Z"
   },
   {
    "duration": 1123,
    "start_time": "2021-09-16T09:58:13.376Z"
   },
   {
    "duration": 970,
    "start_time": "2021-09-16T10:00:47.981Z"
   },
   {
    "duration": 368,
    "start_time": "2021-09-16T10:01:19.597Z"
   },
   {
    "duration": 133,
    "start_time": "2021-09-16T10:05:03.695Z"
   },
   {
    "duration": 1088,
    "start_time": "2021-09-16T10:05:20.849Z"
   },
   {
    "duration": 998,
    "start_time": "2021-09-16T10:05:45.912Z"
   },
   {
    "duration": 987,
    "start_time": "2021-09-16T10:06:03.346Z"
   },
   {
    "duration": 117,
    "start_time": "2021-09-16T10:08:19.614Z"
   },
   {
    "duration": 4401,
    "start_time": "2021-09-16T10:11:35.626Z"
   },
   {
    "duration": 5258,
    "start_time": "2021-09-16T10:12:01.274Z"
   },
   {
    "duration": 53,
    "start_time": "2021-09-16T10:12:42.141Z"
   },
   {
    "duration": 14,
    "start_time": "2021-09-16T10:12:45.725Z"
   },
   {
    "duration": 5,
    "start_time": "2021-09-16T10:12:47.356Z"
   },
   {
    "duration": 43,
    "start_time": "2021-09-16T10:12:48.988Z"
   },
   {
    "duration": 5671,
    "start_time": "2021-09-16T10:13:30.901Z"
   },
   {
    "duration": 4172,
    "start_time": "2021-09-16T10:14:40.050Z"
   },
   {
    "duration": 329,
    "start_time": "2021-09-16T10:17:45.404Z"
   },
   {
    "duration": -746,
    "start_time": "2021-09-16T10:18:08.382Z"
   },
   {
    "duration": 51,
    "start_time": "2021-09-16T10:18:34.140Z"
   },
   {
    "duration": 12,
    "start_time": "2021-09-16T10:18:34.193Z"
   },
   {
    "duration": 17,
    "start_time": "2021-09-16T10:18:34.207Z"
   },
   {
    "duration": 55,
    "start_time": "2021-09-16T10:18:34.226Z"
   },
   {
    "duration": 653,
    "start_time": "2021-09-16T10:18:34.282Z"
   },
   {
    "duration": 534,
    "start_time": "2021-09-16T10:18:34.937Z"
   },
   {
    "duration": -2141,
    "start_time": "2021-09-16T10:18:37.614Z"
   },
   {
    "duration": -2144,
    "start_time": "2021-09-16T10:18:37.618Z"
   },
   {
    "duration": 1667,
    "start_time": "2021-09-16T10:21:27.726Z"
   },
   {
    "duration": 1540,
    "start_time": "2021-09-16T10:22:18.964Z"
   },
   {
    "duration": 1415,
    "start_time": "2021-09-16T10:23:51.881Z"
   },
   {
    "duration": 1928,
    "start_time": "2021-09-16T10:24:33.064Z"
   },
   {
    "duration": 2113,
    "start_time": "2021-09-16T10:26:13.963Z"
   },
   {
    "duration": 1590,
    "start_time": "2021-09-16T10:27:06.439Z"
   },
   {
    "duration": 1843,
    "start_time": "2021-09-16T10:27:56.368Z"
   },
   {
    "duration": 2094,
    "start_time": "2021-09-16T10:28:05.999Z"
   },
   {
    "duration": 1373,
    "start_time": "2021-09-16T10:28:36.595Z"
   },
   {
    "duration": 1406,
    "start_time": "2021-09-16T10:36:53.093Z"
   },
   {
    "duration": 1422,
    "start_time": "2021-09-16T10:37:17.681Z"
   },
   {
    "duration": 1679,
    "start_time": "2021-09-16T10:42:36.582Z"
   },
   {
    "duration": 2022,
    "start_time": "2021-09-16T10:42:49.774Z"
   },
   {
    "duration": 1516,
    "start_time": "2021-09-16T10:42:58.480Z"
   },
   {
    "duration": 1554,
    "start_time": "2021-09-16T10:45:19.464Z"
   },
   {
    "duration": 119,
    "start_time": "2021-09-16T10:46:19.998Z"
   },
   {
    "duration": 1440,
    "start_time": "2021-09-16T10:47:20.010Z"
   },
   {
    "duration": 1484,
    "start_time": "2021-09-16T10:47:38.225Z"
   },
   {
    "duration": 1488,
    "start_time": "2021-09-16T10:48:48.113Z"
   },
   {
    "duration": 1456,
    "start_time": "2021-09-16T10:49:02.632Z"
   },
   {
    "duration": 10260,
    "start_time": "2021-09-16T10:49:38.732Z"
   },
   {
    "duration": 1913,
    "start_time": "2021-09-16T10:50:00.131Z"
   },
   {
    "duration": 1680,
    "start_time": "2021-09-16T10:51:03.534Z"
   },
   {
    "duration": 5,
    "start_time": "2021-09-16T10:53:36.536Z"
   },
   {
    "duration": 2644,
    "start_time": "2021-09-16T10:53:46.307Z"
   },
   {
    "duration": 1410,
    "start_time": "2021-09-16T10:54:26.597Z"
   },
   {
    "duration": 49,
    "start_time": "2021-09-16T10:54:58.217Z"
   },
   {
    "duration": 57,
    "start_time": "2021-09-16T10:55:11.290Z"
   },
   {
    "duration": 60,
    "start_time": "2021-09-16T10:55:23.974Z"
   },
   {
    "duration": 18,
    "start_time": "2021-09-16T10:55:44.690Z"
   },
   {
    "duration": 13,
    "start_time": "2021-09-16T10:56:11.983Z"
   },
   {
    "duration": 20,
    "start_time": "2021-09-16T10:56:47.925Z"
   },
   {
    "duration": 38,
    "start_time": "2021-09-16T10:57:03.941Z"
   },
   {
    "duration": 48,
    "start_time": "2021-09-16T10:57:16.118Z"
   },
   {
    "duration": 43,
    "start_time": "2021-09-16T10:57:34.605Z"
   },
   {
    "duration": 38,
    "start_time": "2021-09-16T10:57:52.588Z"
   },
   {
    "duration": 1467,
    "start_time": "2021-09-16T10:58:04.652Z"
   },
   {
    "duration": 1789,
    "start_time": "2021-09-16T10:58:44.397Z"
   },
   {
    "duration": 3000,
    "start_time": "2021-09-16T10:58:51.892Z"
   },
   {
    "duration": 8,
    "start_time": "2021-09-16T10:59:14.522Z"
   },
   {
    "duration": 545,
    "start_time": "2021-09-16T11:00:32.108Z"
   },
   {
    "duration": 1394,
    "start_time": "2021-09-16T11:01:14.882Z"
   },
   {
    "duration": 9,
    "start_time": "2021-09-16T11:04:48.154Z"
   },
   {
    "duration": 1460,
    "start_time": "2021-09-16T11:05:06.600Z"
   },
   {
    "duration": 2101,
    "start_time": "2021-09-16T11:05:50.285Z"
   },
   {
    "duration": 50,
    "start_time": "2021-09-16T11:09:08.720Z"
   },
   {
    "duration": 14,
    "start_time": "2021-09-16T11:09:08.772Z"
   },
   {
    "duration": 4,
    "start_time": "2021-09-16T11:09:08.788Z"
   },
   {
    "duration": 31,
    "start_time": "2021-09-16T11:09:08.794Z"
   },
   {
    "duration": 51,
    "start_time": "2021-09-16T11:13:58.704Z"
   },
   {
    "duration": 15,
    "start_time": "2021-09-16T11:13:58.757Z"
   },
   {
    "duration": 6,
    "start_time": "2021-09-16T11:13:58.774Z"
   },
   {
    "duration": 33,
    "start_time": "2021-09-16T11:13:58.781Z"
   },
   {
    "duration": 26844,
    "start_time": "2021-09-16T11:16:39.274Z"
   },
   {
    "duration": 4169,
    "start_time": "2021-09-16T11:29:25.954Z"
   },
   {
    "duration": 3997,
    "start_time": "2021-09-16T11:29:46.978Z"
   },
   {
    "duration": 53,
    "start_time": "2021-09-16T11:29:57.105Z"
   },
   {
    "duration": 14,
    "start_time": "2021-09-16T11:30:00.142Z"
   },
   {
    "duration": 5,
    "start_time": "2021-09-16T11:30:04.048Z"
   },
   {
    "duration": 52,
    "start_time": "2021-09-16T11:30:25.788Z"
   },
   {
    "duration": 50,
    "start_time": "2021-09-16T11:30:29.439Z"
   },
   {
    "duration": 15,
    "start_time": "2021-09-16T11:30:31.858Z"
   },
   {
    "duration": 5,
    "start_time": "2021-09-16T11:30:34.367Z"
   },
   {
    "duration": 28,
    "start_time": "2021-09-16T11:30:36.630Z"
   },
   {
    "duration": 101,
    "start_time": "2021-09-16T11:34:35.851Z"
   },
   {
    "duration": 16,
    "start_time": "2021-09-16T11:34:35.954Z"
   },
   {
    "duration": 5,
    "start_time": "2021-09-16T11:34:35.973Z"
   },
   {
    "duration": 91,
    "start_time": "2021-09-16T11:34:35.980Z"
   },
   {
    "duration": 67299,
    "start_time": "2021-09-16T11:42:27.880Z"
   },
   {
    "duration": 55705,
    "start_time": "2021-09-16T11:45:32.584Z"
   },
   {
    "duration": 22559,
    "start_time": "2021-09-16T11:47:50.417Z"
   },
   {
    "duration": 27835,
    "start_time": "2021-09-16T11:49:08.429Z"
   },
   {
    "duration": 1600,
    "start_time": "2021-09-16T11:49:43.874Z"
   },
   {
    "duration": 1485,
    "start_time": "2021-09-16T11:50:02.382Z"
   },
   {
    "duration": 1397,
    "start_time": "2021-09-16T11:50:48.116Z"
   },
   {
    "duration": 1515,
    "start_time": "2021-09-16T11:51:59.803Z"
   },
   {
    "duration": 52,
    "start_time": "2021-09-16T11:52:25.908Z"
   },
   {
    "duration": 14,
    "start_time": "2021-09-16T11:52:28.943Z"
   },
   {
    "duration": 5,
    "start_time": "2021-09-16T11:52:31.768Z"
   },
   {
    "duration": 44,
    "start_time": "2021-09-16T11:52:34.608Z"
   },
   {
    "duration": 42293,
    "start_time": "2021-09-16T11:52:37.675Z"
   },
   {
    "duration": 79,
    "start_time": "2021-09-16T13:01:07.996Z"
   },
   {
    "duration": 17,
    "start_time": "2021-09-16T13:01:08.850Z"
   },
   {
    "duration": 20,
    "start_time": "2021-09-16T13:01:09.629Z"
   },
   {
    "duration": 31,
    "start_time": "2021-09-16T13:01:10.451Z"
   },
   {
    "duration": 41,
    "start_time": "2021-09-16T13:05:48.628Z"
   },
   {
    "duration": 14,
    "start_time": "2021-09-16T13:05:48.671Z"
   },
   {
    "duration": 12,
    "start_time": "2021-09-16T13:05:48.687Z"
   },
   {
    "duration": 32,
    "start_time": "2021-09-16T13:05:48.701Z"
   },
   {
    "duration": 150333,
    "start_time": "2021-09-16T13:05:48.735Z"
   },
   {
    "duration": 85,
    "start_time": "2021-09-16T13:09:46.494Z"
   },
   {
    "duration": 54,
    "start_time": "2021-09-16T13:09:52.536Z"
   },
   {
    "duration": 14,
    "start_time": "2021-09-16T13:09:53.197Z"
   },
   {
    "duration": 6,
    "start_time": "2021-09-16T13:09:54.513Z"
   },
   {
    "duration": 54,
    "start_time": "2021-09-16T13:09:54.521Z"
   },
   {
    "duration": 50,
    "start_time": "2021-09-16T13:19:57.269Z"
   },
   {
    "duration": 13,
    "start_time": "2021-09-16T13:19:57.320Z"
   },
   {
    "duration": 17,
    "start_time": "2021-09-16T13:19:57.335Z"
   },
   {
    "duration": 35,
    "start_time": "2021-09-16T13:19:57.354Z"
   },
   {
    "duration": 151265,
    "start_time": "2021-09-16T13:22:25.699Z"
   },
   {
    "duration": 53,
    "start_time": "2021-09-16T13:32:58.997Z"
   },
   {
    "duration": 13,
    "start_time": "2021-09-16T13:32:59.715Z"
   },
   {
    "duration": 5,
    "start_time": "2021-09-16T13:33:00.323Z"
   },
   {
    "duration": 29,
    "start_time": "2021-09-16T13:33:00.909Z"
   },
   {
    "duration": 51,
    "start_time": "2021-09-16T13:35:27.849Z"
   },
   {
    "duration": 12,
    "start_time": "2021-09-16T13:35:27.902Z"
   },
   {
    "duration": 4,
    "start_time": "2021-09-16T13:35:27.916Z"
   },
   {
    "duration": 33,
    "start_time": "2021-09-16T13:35:27.921Z"
   },
   {
    "duration": 146145,
    "start_time": "2021-09-16T13:35:27.956Z"
   },
   {
    "duration": 52,
    "start_time": "2021-09-16T13:43:01.530Z"
   },
   {
    "duration": 13,
    "start_time": "2021-09-16T13:43:02.288Z"
   },
   {
    "duration": 5,
    "start_time": "2021-09-16T13:43:02.914Z"
   },
   {
    "duration": 27,
    "start_time": "2021-09-16T13:43:03.610Z"
   },
   {
    "duration": 2120,
    "start_time": "2021-09-16T13:43:04.877Z"
   },
   {
    "duration": 49,
    "start_time": "2021-09-16T13:43:27.213Z"
   },
   {
    "duration": 13,
    "start_time": "2021-09-16T13:43:27.891Z"
   },
   {
    "duration": 4,
    "start_time": "2021-09-16T13:43:28.440Z"
   },
   {
    "duration": 34,
    "start_time": "2021-09-16T13:43:29.159Z"
   },
   {
    "duration": 63,
    "start_time": "2021-09-16T13:46:02.363Z"
   },
   {
    "duration": 13,
    "start_time": "2021-09-16T13:46:02.428Z"
   },
   {
    "duration": 5,
    "start_time": "2021-09-16T13:46:02.449Z"
   },
   {
    "duration": 44,
    "start_time": "2021-09-16T13:46:02.456Z"
   },
   {
    "duration": 148778,
    "start_time": "2021-09-16T13:46:02.502Z"
   },
   {
    "duration": 152712,
    "start_time": "2021-09-16T13:49:16.777Z"
   },
   {
    "duration": 51,
    "start_time": "2021-09-16T13:55:58.716Z"
   },
   {
    "duration": 12,
    "start_time": "2021-09-16T13:55:59.500Z"
   },
   {
    "duration": 5,
    "start_time": "2021-09-16T13:56:00.109Z"
   },
   {
    "duration": 30,
    "start_time": "2021-09-16T13:56:01.168Z"
   },
   {
    "duration": 1526,
    "start_time": "2021-09-16T13:56:02.572Z"
   },
   {
    "duration": 48,
    "start_time": "2021-09-16T13:56:23.961Z"
   },
   {
    "duration": 14,
    "start_time": "2021-09-16T13:56:24.715Z"
   },
   {
    "duration": 5,
    "start_time": "2021-09-16T13:56:25.431Z"
   },
   {
    "duration": 32,
    "start_time": "2021-09-16T13:56:26.725Z"
   },
   {
    "duration": 151166,
    "start_time": "2021-09-16T13:56:29.775Z"
   },
   {
    "duration": 2992,
    "start_time": "2021-09-16T13:59:09.993Z"
   },
   {
    "duration": 51,
    "start_time": "2021-09-16T14:02:21.474Z"
   },
   {
    "duration": 13,
    "start_time": "2021-09-16T14:02:22.240Z"
   },
   {
    "duration": 4,
    "start_time": "2021-09-16T14:02:22.805Z"
   },
   {
    "duration": 28,
    "start_time": "2021-09-16T14:02:23.559Z"
   },
   {
    "duration": 2840,
    "start_time": "2021-09-16T14:02:24.421Z"
   },
   {
    "duration": 2786,
    "start_time": "2021-09-16T14:12:23.998Z"
   },
   {
    "duration": 2831,
    "start_time": "2021-09-16T14:15:44.106Z"
   },
   {
    "duration": 2742,
    "start_time": "2021-09-16T14:22:22.391Z"
   },
   {
    "duration": 2881,
    "start_time": "2021-09-16T14:22:41.250Z"
   },
   {
    "duration": 2800,
    "start_time": "2021-09-16T14:23:46.532Z"
   },
   {
    "duration": 2933,
    "start_time": "2021-09-16T14:25:14.493Z"
   },
   {
    "duration": 2698,
    "start_time": "2021-09-16T14:27:10.404Z"
   },
   {
    "duration": 2654,
    "start_time": "2021-09-16T14:27:52.736Z"
   },
   {
    "duration": 2868,
    "start_time": "2021-09-16T14:30:57.526Z"
   },
   {
    "duration": 2628,
    "start_time": "2021-09-16T14:35:00.646Z"
   },
   {
    "duration": 3545,
    "start_time": "2021-09-16T14:47:21.124Z"
   },
   {
    "duration": 3530,
    "start_time": "2021-09-16T14:47:44.120Z"
   },
   {
    "duration": 3561,
    "start_time": "2021-09-16T14:48:01.038Z"
   },
   {
    "duration": 3554,
    "start_time": "2021-09-16T14:48:28.930Z"
   },
   {
    "duration": 1121,
    "start_time": "2021-09-16T17:00:26.645Z"
   },
   {
    "duration": 60,
    "start_time": "2021-09-16T17:01:04.387Z"
   },
   {
    "duration": 18,
    "start_time": "2021-09-16T17:01:05.773Z"
   },
   {
    "duration": 5,
    "start_time": "2021-09-16T17:01:06.769Z"
   },
   {
    "duration": 32,
    "start_time": "2021-09-16T17:01:07.790Z"
   },
   {
    "duration": 3632,
    "start_time": "2021-09-16T17:01:09.380Z"
   },
   {
    "duration": 1140,
    "start_time": "2021-09-16T17:01:13.015Z"
   },
   {
    "duration": 1253,
    "start_time": "2021-09-16T17:01:56.812Z"
   },
   {
    "duration": 16,
    "start_time": "2021-09-16T17:05:09.672Z"
   },
   {
    "duration": 8,
    "start_time": "2021-09-16T17:06:07.914Z"
   },
   {
    "duration": 4,
    "start_time": "2021-09-16T17:08:28.318Z"
   },
   {
    "duration": 4,
    "start_time": "2021-09-16T17:08:40.953Z"
   },
   {
    "duration": 8,
    "start_time": "2021-09-16T17:17:59.233Z"
   },
   {
    "duration": 6,
    "start_time": "2021-09-16T17:24:17.979Z"
   },
   {
    "duration": 15,
    "start_time": "2021-09-16T17:30:47.326Z"
   },
   {
    "duration": 11,
    "start_time": "2021-09-16T17:31:25.263Z"
   },
   {
    "duration": 32,
    "start_time": "2021-09-16T17:38:15.393Z"
   },
   {
    "duration": 29,
    "start_time": "2021-09-16T17:38:22.329Z"
   },
   {
    "duration": 7,
    "start_time": "2021-09-16T17:40:29.406Z"
   },
   {
    "duration": 26,
    "start_time": "2021-09-16T17:40:53.050Z"
   },
   {
    "duration": 29,
    "start_time": "2021-09-16T17:41:04.729Z"
   },
   {
    "duration": 22,
    "start_time": "2021-09-16T17:43:43.702Z"
   },
   {
    "duration": 22,
    "start_time": "2021-09-16T17:43:49.840Z"
   },
   {
    "duration": 126,
    "start_time": "2021-09-16T17:49:03.738Z"
   },
   {
    "duration": 280,
    "start_time": "2021-09-16T17:49:08.587Z"
   },
   {
    "duration": 273,
    "start_time": "2021-09-16T17:50:06.616Z"
   },
   {
    "duration": 28,
    "start_time": "2021-09-16T17:50:20.326Z"
   },
   {
    "duration": 271,
    "start_time": "2021-09-16T17:50:30.259Z"
   },
   {
    "duration": 278,
    "start_time": "2021-09-16T17:50:40.750Z"
   },
   {
    "duration": 385,
    "start_time": "2021-09-16T17:51:09.400Z"
   },
   {
    "duration": 22,
    "start_time": "2021-09-16T17:51:19.311Z"
   },
   {
    "duration": 298,
    "start_time": "2021-09-16T17:52:56.510Z"
   },
   {
    "duration": 22,
    "start_time": "2021-09-16T17:53:12.113Z"
   },
   {
    "duration": 56,
    "start_time": "2021-09-16T17:55:21.039Z"
   },
   {
    "duration": 52,
    "start_time": "2021-09-16T17:55:38.563Z"
   },
   {
    "duration": 2,
    "start_time": "2021-09-16T17:59:17.814Z"
   },
   {
    "duration": 78,
    "start_time": "2021-09-16T18:14:10.126Z"
   },
   {
    "duration": 1183,
    "start_time": "2021-09-16T18:18:21.414Z"
   },
   {
    "duration": 1276,
    "start_time": "2021-09-16T18:18:29.759Z"
   },
   {
    "duration": 10933,
    "start_time": "2021-09-16T18:18:40.295Z"
   },
   {
    "duration": 10896,
    "start_time": "2021-09-16T18:23:54.485Z"
   },
   {
    "duration": 81,
    "start_time": "2021-09-16T18:25:02.315Z"
   },
   {
    "duration": 17,
    "start_time": "2021-09-16T18:27:19.104Z"
   },
   {
    "duration": 13,
    "start_time": "2021-09-16T18:27:33.039Z"
   },
   {
    "duration": 14,
    "start_time": "2021-09-16T18:27:37.972Z"
   },
   {
    "duration": 14,
    "start_time": "2021-09-16T18:29:09.062Z"
   },
   {
    "duration": 13,
    "start_time": "2021-09-16T18:29:28.139Z"
   },
   {
    "duration": 96,
    "start_time": "2021-09-16T18:31:01.107Z"
   },
   {
    "duration": 81,
    "start_time": "2021-09-16T18:31:24.119Z"
   },
   {
    "duration": 53,
    "start_time": "2021-09-16T18:33:12.542Z"
   },
   {
    "duration": 55,
    "start_time": "2021-09-16T18:37:06.820Z"
   },
   {
    "duration": 49,
    "start_time": "2021-09-16T18:43:51.110Z"
   },
   {
    "duration": 860,
    "start_time": "2021-09-16T20:50:50.448Z"
   },
   {
    "duration": 20,
    "start_time": "2021-09-16T20:50:51.310Z"
   },
   {
    "duration": 8,
    "start_time": "2021-09-16T20:50:51.333Z"
   },
   {
    "duration": 65,
    "start_time": "2021-09-16T20:50:51.343Z"
   },
   {
    "duration": 4539,
    "start_time": "2021-09-16T20:50:51.410Z"
   },
   {
    "duration": 115,
    "start_time": "2021-09-16T20:50:55.952Z"
   },
   {
    "duration": 4,
    "start_time": "2021-09-16T20:50:56.069Z"
   },
   {
    "duration": 12,
    "start_time": "2021-09-16T20:50:56.076Z"
   },
   {
    "duration": 114,
    "start_time": "2021-09-16T20:50:56.090Z"
   },
   {
    "duration": 93,
    "start_time": "2021-09-16T20:50:56.207Z"
   },
   {
    "duration": 77,
    "start_time": "2021-09-16T21:45:47.277Z"
   },
   {
    "duration": 898,
    "start_time": "2021-09-17T06:58:51.360Z"
   },
   {
    "duration": 98,
    "start_time": "2021-09-17T07:13:30.980Z"
   },
   {
    "duration": 84,
    "start_time": "2021-09-17T07:18:22.523Z"
   },
   {
    "duration": 80,
    "start_time": "2021-09-17T07:18:35.932Z"
   },
   {
    "duration": 94,
    "start_time": "2021-09-17T07:20:06.069Z"
   },
   {
    "duration": 7,
    "start_time": "2021-09-17T09:26:38.588Z"
   },
   {
    "duration": 86,
    "start_time": "2021-09-17T09:26:59.046Z"
   },
   {
    "duration": 20,
    "start_time": "2021-09-17T09:26:59.134Z"
   },
   {
    "duration": 25,
    "start_time": "2021-09-17T09:26:59.157Z"
   },
   {
    "duration": 53,
    "start_time": "2021-09-17T09:26:59.185Z"
   },
   {
    "duration": 4575,
    "start_time": "2021-09-17T09:26:59.240Z"
   },
   {
    "duration": 79,
    "start_time": "2021-09-17T09:27:03.818Z"
   },
   {
    "duration": 111,
    "start_time": "2021-09-17T09:27:03.900Z"
   },
   {
    "duration": 7,
    "start_time": "2021-09-17T09:27:04.014Z"
   },
   {
    "duration": 7,
    "start_time": "2021-09-17T09:27:04.024Z"
   },
   {
    "duration": 138,
    "start_time": "2021-09-17T09:27:04.034Z"
   },
   {
    "duration": 135,
    "start_time": "2021-09-17T09:27:04.175Z"
   },
   {
    "duration": 342,
    "start_time": "2021-09-17T09:36:53.229Z"
   },
   {
    "duration": 265,
    "start_time": "2021-09-17T11:16:31.399Z"
   },
   {
    "duration": 361,
    "start_time": "2021-09-17T11:17:17.111Z"
   },
   {
    "duration": 336,
    "start_time": "2021-09-17T11:18:42.615Z"
   },
   {
    "duration": 61,
    "start_time": "2021-09-17T11:19:06.400Z"
   },
   {
    "duration": 1208,
    "start_time": "2021-09-17T11:19:45.452Z"
   },
   {
    "duration": 8329,
    "start_time": "2021-09-17T11:20:06.119Z"
   },
   {
    "duration": 56,
    "start_time": "2021-09-17T11:29:05.389Z"
   },
   {
    "duration": 61,
    "start_time": "2021-09-17T11:29:56.992Z"
   },
   {
    "duration": 7747,
    "start_time": "2021-09-17T11:30:03.124Z"
   },
   {
    "duration": 297,
    "start_time": "2021-09-17T11:30:36.343Z"
   },
   {
    "duration": 266,
    "start_time": "2021-09-17T11:30:40.868Z"
   },
   {
    "duration": 100,
    "start_time": "2021-09-17T11:30:46.700Z"
   },
   {
    "duration": 87,
    "start_time": "2021-09-17T11:31:02.087Z"
   },
   {
    "duration": 81,
    "start_time": "2021-09-17T11:31:27.048Z"
   },
   {
    "duration": 7208,
    "start_time": "2021-09-17T11:32:24.147Z"
   },
   {
    "duration": 77,
    "start_time": "2021-09-17T11:35:26.104Z"
   },
   {
    "duration": 79,
    "start_time": "2021-09-17T11:35:42.361Z"
   },
   {
    "duration": 327,
    "start_time": "2021-09-17T11:39:20.322Z"
   },
   {
    "duration": 85,
    "start_time": "2021-09-17T11:39:27.244Z"
   },
   {
    "duration": 408,
    "start_time": "2021-09-17T11:40:37.648Z"
   },
   {
    "duration": 84,
    "start_time": "2021-09-17T11:40:50.025Z"
   },
   {
    "duration": 94,
    "start_time": "2021-09-17T11:41:08.042Z"
   },
   {
    "duration": 474,
    "start_time": "2021-09-17T11:41:10.934Z"
   },
   {
    "duration": 83,
    "start_time": "2021-09-17T11:41:17.346Z"
   },
   {
    "duration": 6474,
    "start_time": "2021-09-17T11:41:27.695Z"
   },
   {
    "duration": 365,
    "start_time": "2021-09-17T11:42:44.454Z"
   },
   {
    "duration": 86,
    "start_time": "2021-09-17T11:42:56.962Z"
   },
   {
    "duration": 87,
    "start_time": "2021-09-17T11:44:44.106Z"
   },
   {
    "duration": 7439,
    "start_time": "2021-09-17T11:44:48.399Z"
   },
   {
    "duration": 86,
    "start_time": "2021-09-17T11:45:50.815Z"
   },
   {
    "duration": 84,
    "start_time": "2021-09-17T11:46:53.830Z"
   },
   {
    "duration": 84,
    "start_time": "2021-09-17T11:48:05.923Z"
   },
   {
    "duration": 278,
    "start_time": "2021-09-17T11:49:01.391Z"
   },
   {
    "duration": 297,
    "start_time": "2021-09-17T11:49:39.135Z"
   },
   {
    "duration": 415,
    "start_time": "2021-09-17T11:49:53.488Z"
   },
   {
    "duration": 103,
    "start_time": "2021-09-17T11:50:11.686Z"
   },
   {
    "duration": 13166,
    "start_time": "2021-09-17T11:57:45.575Z"
   },
   {
    "duration": 85,
    "start_time": "2021-09-17T11:58:29.623Z"
   },
   {
    "duration": 424,
    "start_time": "2021-09-17T12:09:13.018Z"
   },
   {
    "duration": 87,
    "start_time": "2021-09-17T12:09:45.079Z"
   },
   {
    "duration": 320,
    "start_time": "2021-09-18T11:25:54.514Z"
   },
   {
    "duration": 870,
    "start_time": "2021-09-18T11:26:00.352Z"
   },
   {
    "duration": 29,
    "start_time": "2021-09-18T11:26:01.225Z"
   },
   {
    "duration": 6,
    "start_time": "2021-09-18T11:26:01.258Z"
   },
   {
    "duration": 61,
    "start_time": "2021-09-18T11:26:01.267Z"
   },
   {
    "duration": 4603,
    "start_time": "2021-09-18T11:26:01.330Z"
   },
   {
    "duration": 73,
    "start_time": "2021-09-18T11:26:05.936Z"
   },
   {
    "duration": 116,
    "start_time": "2021-09-18T11:26:06.011Z"
   },
   {
    "duration": 96,
    "start_time": "2021-09-18T11:26:06.131Z"
   },
   {
    "duration": 34,
    "start_time": "2021-09-18T11:26:06.229Z"
   },
   {
    "duration": 18,
    "start_time": "2021-09-18T11:26:06.265Z"
   },
   {
    "duration": 118,
    "start_time": "2021-09-18T11:26:06.285Z"
   },
   {
    "duration": 122,
    "start_time": "2021-09-18T11:26:06.406Z"
   },
   {
    "duration": 3105,
    "start_time": "2021-09-18T11:29:36.076Z"
   },
   {
    "duration": 449,
    "start_time": "2021-09-18T11:30:49.709Z"
   },
   {
    "duration": 349,
    "start_time": "2021-09-18T11:31:09.132Z"
   },
   {
    "duration": 72,
    "start_time": "2021-09-18T11:31:24.691Z"
   },
   {
    "duration": 453,
    "start_time": "2021-09-18T13:10:59.366Z"
   },
   {
    "duration": 889,
    "start_time": "2021-09-18T13:11:06.222Z"
   },
   {
    "duration": 18,
    "start_time": "2021-09-18T13:11:07.114Z"
   },
   {
    "duration": 6,
    "start_time": "2021-09-18T13:11:07.135Z"
   },
   {
    "duration": 43,
    "start_time": "2021-09-18T13:11:07.144Z"
   },
   {
    "duration": 4495,
    "start_time": "2021-09-18T13:11:07.189Z"
   },
   {
    "duration": 78,
    "start_time": "2021-09-18T13:11:11.688Z"
   },
   {
    "duration": 105,
    "start_time": "2021-09-18T13:11:11.769Z"
   },
   {
    "duration": 103,
    "start_time": "2021-09-18T13:11:11.878Z"
   },
   {
    "duration": 971,
    "start_time": "2021-09-18T13:11:11.984Z"
   },
   {
    "duration": 5,
    "start_time": "2021-09-18T13:11:12.959Z"
   },
   {
    "duration": 117,
    "start_time": "2021-09-18T13:11:12.967Z"
   },
   {
    "duration": 94,
    "start_time": "2021-09-18T13:11:13.086Z"
   },
   {
    "duration": 119,
    "start_time": "2021-09-18T15:43:07.692Z"
   },
   {
    "duration": 122,
    "start_time": "2021-09-18T15:44:08.307Z"
   },
   {
    "duration": 429,
    "start_time": "2021-09-18T15:44:46.175Z"
   },
   {
    "duration": 342,
    "start_time": "2021-09-18T15:44:51.549Z"
   },
   {
    "duration": 839,
    "start_time": "2021-09-18T15:45:03.686Z"
   },
   {
    "duration": 13,
    "start_time": "2021-09-18T15:45:04.527Z"
   },
   {
    "duration": 5,
    "start_time": "2021-09-18T15:45:04.542Z"
   },
   {
    "duration": 49,
    "start_time": "2021-09-18T15:45:04.548Z"
   },
   {
    "duration": 3983,
    "start_time": "2021-09-18T15:45:04.598Z"
   },
   {
    "duration": 77,
    "start_time": "2021-09-18T15:45:08.584Z"
   },
   {
    "duration": 90,
    "start_time": "2021-09-18T15:45:08.663Z"
   },
   {
    "duration": 403,
    "start_time": "2021-09-18T15:45:08.756Z"
   },
   {
    "duration": -814,
    "start_time": "2021-09-18T15:45:09.975Z"
   },
   {
    "duration": -822,
    "start_time": "2021-09-18T15:45:09.985Z"
   },
   {
    "duration": -835,
    "start_time": "2021-09-18T15:45:09.999Z"
   },
   {
    "duration": -983,
    "start_time": "2021-09-18T15:45:10.148Z"
   },
   {
    "duration": 1739,
    "start_time": "2021-09-18T15:48:40.214Z"
   },
   {
    "duration": 376,
    "start_time": "2021-09-18T15:48:49.165Z"
   },
   {
    "duration": 24,
    "start_time": "2021-09-18T15:49:02.481Z"
   },
   {
    "duration": 26,
    "start_time": "2021-09-18T15:49:41.819Z"
   },
   {
    "duration": 24,
    "start_time": "2021-09-18T15:49:59.882Z"
   },
   {
    "duration": 30,
    "start_time": "2021-09-18T15:50:25.268Z"
   },
   {
    "duration": 45,
    "start_time": "2021-09-18T15:50:52.815Z"
   },
   {
    "duration": 28,
    "start_time": "2021-09-18T15:51:09.843Z"
   },
   {
    "duration": 25,
    "start_time": "2021-09-18T15:51:12.815Z"
   },
   {
    "duration": 53,
    "start_time": "2021-09-18T15:51:53.975Z"
   },
   {
    "duration": 25,
    "start_time": "2021-09-18T15:52:04.892Z"
   },
   {
    "duration": 21,
    "start_time": "2021-09-18T15:52:20.367Z"
   },
   {
    "duration": 22,
    "start_time": "2021-09-18T15:52:26.413Z"
   },
   {
    "duration": 394,
    "start_time": "2021-09-18T15:53:00.185Z"
   },
   {
    "duration": 122,
    "start_time": "2021-09-18T15:53:07.958Z"
   },
   {
    "duration": 32,
    "start_time": "2021-09-18T15:53:16.585Z"
   },
   {
    "duration": 116,
    "start_time": "2021-09-18T16:07:48.314Z"
   },
   {
    "duration": 445,
    "start_time": "2021-09-18T16:07:54.787Z"
   },
   {
    "duration": 60,
    "start_time": "2021-09-18T16:08:00.461Z"
   },
   {
    "duration": 63,
    "start_time": "2021-09-18T16:14:37.027Z"
   },
   {
    "duration": 106,
    "start_time": "2021-09-18T16:15:02.800Z"
   },
   {
    "duration": 66,
    "start_time": "2021-09-18T16:15:11.892Z"
   },
   {
    "duration": 62,
    "start_time": "2021-09-18T16:15:23.310Z"
   },
   {
    "duration": -534,
    "start_time": "2021-09-18T16:17:06.617Z"
   },
   {
    "duration": 67,
    "start_time": "2021-09-18T16:17:10.925Z"
   },
   {
    "duration": 15,
    "start_time": "2021-09-18T16:17:11.006Z"
   },
   {
    "duration": 7,
    "start_time": "2021-09-18T16:17:11.023Z"
   },
   {
    "duration": 40,
    "start_time": "2021-09-18T16:17:11.032Z"
   },
   {
    "duration": 3864,
    "start_time": "2021-09-18T16:17:11.073Z"
   },
   {
    "duration": 58,
    "start_time": "2021-09-18T16:17:14.939Z"
   },
   {
    "duration": 88,
    "start_time": "2021-09-18T16:17:14.998Z"
   },
   {
    "duration": 24,
    "start_time": "2021-09-18T16:17:15.089Z"
   },
   {
    "duration": 33,
    "start_time": "2021-09-18T16:17:15.114Z"
   },
   {
    "duration": 2,
    "start_time": "2021-09-18T16:17:15.149Z"
   },
   {
    "duration": -576,
    "start_time": "2021-09-18T16:17:26.345Z"
   },
   {
    "duration": -586,
    "start_time": "2021-09-18T16:17:26.356Z"
   },
   {
    "duration": 10461,
    "start_time": "2021-09-18T16:17:32.971Z"
   },
   {
    "duration": 10609,
    "start_time": "2021-09-18T16:17:50.631Z"
   },
   {
    "duration": 90,
    "start_time": "2021-09-18T16:24:37.532Z"
   },
   {
    "duration": 54,
    "start_time": "2021-09-18T16:29:56.397Z"
   },
   {
    "duration": 450,
    "start_time": "2021-09-18T16:58:27.542Z"
   },
   {
    "duration": 363,
    "start_time": "2021-09-18T17:01:38.335Z"
   },
   {
    "duration": 502,
    "start_time": "2021-09-18T17:01:46.966Z"
   },
   {
    "duration": 61,
    "start_time": "2021-09-18T17:02:00.514Z"
   },
   {
    "duration": 447,
    "start_time": "2021-09-19T17:24:20.157Z"
   },
   {
    "duration": 684,
    "start_time": "2021-09-19T17:24:28.749Z"
   },
   {
    "duration": 12,
    "start_time": "2021-09-19T17:24:29.435Z"
   },
   {
    "duration": 5,
    "start_time": "2021-09-19T17:24:29.449Z"
   },
   {
    "duration": 42,
    "start_time": "2021-09-19T17:24:29.462Z"
   },
   {
    "duration": 3955,
    "start_time": "2021-09-19T17:24:29.506Z"
   },
   {
    "duration": 59,
    "start_time": "2021-09-19T17:24:33.463Z"
   },
   {
    "duration": 67,
    "start_time": "2021-09-19T17:24:33.524Z"
   },
   {
    "duration": 585,
    "start_time": "2021-09-19T17:24:33.593Z"
   },
   {
    "duration": 36,
    "start_time": "2021-09-19T17:24:34.180Z"
   },
   {
    "duration": 3,
    "start_time": "2021-09-19T17:24:34.217Z"
   },
   {
    "duration": 86,
    "start_time": "2021-09-19T17:24:34.221Z"
   },
   {
    "duration": 63,
    "start_time": "2021-09-19T17:24:34.544Z"
   },
   {
    "duration": 1945,
    "start_time": "2021-09-19T17:24:48.477Z"
   },
   {
    "duration": 1727,
    "start_time": "2021-09-19T17:25:09.825Z"
   },
   {
    "duration": 54,
    "start_time": "2021-09-19T17:25:24.629Z"
   },
   {
    "duration": 80,
    "start_time": "2021-10-15T01:19:33.372Z"
   },
   {
    "duration": 276,
    "start_time": "2021-10-15T01:22:04.292Z"
   },
   {
    "duration": 891,
    "start_time": "2021-10-22T10:40:38.696Z"
   },
   {
    "duration": 26,
    "start_time": "2021-10-22T10:40:39.590Z"
   },
   {
    "duration": 7,
    "start_time": "2021-10-22T10:40:39.619Z"
   },
   {
    "duration": 50,
    "start_time": "2021-10-22T10:40:39.629Z"
   },
   {
    "duration": 4537,
    "start_time": "2021-10-22T10:40:39.681Z"
   },
   {
    "duration": 77,
    "start_time": "2021-10-22T10:40:44.220Z"
   },
   {
    "duration": 106,
    "start_time": "2021-10-22T10:40:44.299Z"
   },
   {
    "duration": 804,
    "start_time": "2021-10-22T10:40:44.410Z"
   },
   {
    "duration": 55,
    "start_time": "2021-10-22T10:40:45.217Z"
   },
   {
    "duration": 3,
    "start_time": "2021-10-22T10:40:45.274Z"
   },
   {
    "duration": 128,
    "start_time": "2021-10-22T10:40:45.280Z"
   },
   {
    "duration": 99,
    "start_time": "2021-10-22T10:40:45.410Z"
   }
  ],
  "kernelspec": {
   "display_name": "Python 3",
   "language": "python",
   "name": "python3"
  },
  "language_info": {
   "codemirror_mode": {
    "name": "ipython",
    "version": 3
   },
   "file_extension": ".py",
   "mimetype": "text/x-python",
   "name": "python",
   "nbconvert_exporter": "python",
   "pygments_lexer": "ipython3",
   "version": "3.10.2"
  },
  "toc": {
   "base_numbering": 1,
   "nav_menu": {},
   "number_sections": true,
   "sideBar": true,
   "skip_h1_title": true,
   "title_cell": "Table of Contents",
   "title_sidebar": "Contents",
   "toc_cell": false,
   "toc_position": {},
   "toc_section_display": true,
   "toc_window_display": true
  }
 },
 "nbformat": 4,
 "nbformat_minor": 2
}
